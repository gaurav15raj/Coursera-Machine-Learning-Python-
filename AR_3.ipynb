{
  "nbformat": 4,
  "nbformat_minor": 0,
  "metadata": {
    "colab": {
      "provenance": [],
      "authorship_tag": "ABX9TyPaoLOhxUeUsxLaLfmHathu",
      "include_colab_link": true
    },
    "kernelspec": {
      "name": "python3",
      "display_name": "Python 3"
    },
    "language_info": {
      "name": "python"
    }
  },
  "cells": [
    {
      "cell_type": "markdown",
      "metadata": {
        "id": "view-in-github",
        "colab_type": "text"
      },
      "source": [
        "<a href=\"https://colab.research.google.com/github/gaurav15raj/Coursera-Machine-Learning-Python-/blob/master/AR_3.ipynb\" target=\"_parent\"><img src=\"https://colab.research.google.com/assets/colab-badge.svg\" alt=\"Open In Colab\"/></a>"
      ]
    },
    {
      "cell_type": "code",
      "execution_count": 2,
      "metadata": {
        "id": "8J7GdfalTFtR"
      },
      "outputs": [],
      "source": [
        "import pandas as pd\n",
        "import numpy as np \n",
        "import matplotlib.pyplot as plt\n",
        "import statsmodels.api as sm\n",
        "\n",
        "#import other useful libraries \n",
        "\n",
        "from statsmodels.graphics.tsaplots import plot_pacf\n",
        "from statsmodels.graphics.tsaplots import plot_acf\n",
        "from sklearn.linear_model import LinearRegression\n",
        "from sklearn.metrics import mean_squared_error\n",
        "from sklearn.metrics import r2_score\n",
        "from statsmodels.tsa.arima_model import ARIMA\n"
      ]
    },
    {
      "cell_type": "markdown",
      "source": [
        "In this assignment, you will be using data from the real world (almost) to identify and predict the pattern in closing stock price of a company for each day in 2022. Load the dataset saved as **output.csv** in the github repo and do the following : \n",
        "\n",
        "a) Plot the acf and pacf graphs to identify the process and its order \n",
        "b) Use a linear regression model to find the coefficients of this process once you know the order \n",
        "\n",
        "**optional** : If you're unable to figure out the order in one go, play around with different lag values and check for the model that gives the best score. \n",
        "(use r2_score etc for this) \n",
        "\n",
        "**c) Create additional entries in the same dataframe which correspond to the first month of 2023 and then predict the closing stock price for each day of this month. Save your results in your github repo**\n",
        "\n"
      ],
      "metadata": {
        "id": "_RQ61ub7T6M-"
      }
    },
    {
      "cell_type": "code",
      "source": [
        "#load the dataset\n",
        "url = 'https://raw.githubusercontent.com/gaurav15raj/Time_Series-Econs-/main/AR%20Processes/output.csv'\n",
        "df = pd.read_csv(url)"
      ],
      "metadata": {
        "id": "6bVddiNlTlR-"
      },
      "execution_count": 3,
      "outputs": []
    },
    {
      "cell_type": "code",
      "source": [
        "from statsmodels.tsa.ar_model import AutoReg\n",
        "\n",
        "# Create training and test data\n",
        "#\n",
        "train_data = df['Prices'][:len(df)-60]\n",
        "test_data = df['Prices'][len(df)-60:]\n",
        "#\n",
        "# Instantiate and fit the AR model with training data\n",
        "#\n",
        "ar_model = AutoReg(train_data, lags=3).fit()\n",
        "#\n",
        "# Print Summary\n",
        "#\n",
        "print(ar_model.summary())"
      ],
      "metadata": {
        "colab": {
          "base_uri": "https://localhost:8080/"
        },
        "id": "en6fh9iIR5j4",
        "outputId": "4a522d50-8a6f-4bd0-ca54-876d227ba9c1"
      },
      "execution_count": 76,
      "outputs": [
        {
          "output_type": "stream",
          "name": "stdout",
          "text": [
            "                            AutoReg Model Results                             \n",
            "==============================================================================\n",
            "Dep. Variable:                 Prices   No. Observations:                  302\n",
            "Model:                     AutoReg(3)   Log Likelihood                -442.158\n",
            "Method:               Conditional MLE   S.D. of innovations              1.062\n",
            "Date:                Tue, 07 Feb 2023   AIC                              0.153\n",
            "Time:                        09:50:32   BIC                              0.215\n",
            "Sample:                             3   HQIC                             0.178\n",
            "                                  302                                         \n",
            "==============================================================================\n",
            "                 coef    std err          z      P>|z|      [0.025      0.975]\n",
            "------------------------------------------------------------------------------\n",
            "intercept     19.7937      5.242      3.776      0.000       9.520      30.068\n",
            "Prices.L1      0.2717      0.051      5.295      0.000       0.171       0.372\n",
            "Prices.L2      0.0678      0.053      1.273      0.203      -0.037       0.172\n",
            "Prices.L3      0.4624      0.051      9.034      0.000       0.362       0.563\n",
            "                                    Roots                                    \n",
            "=============================================================================\n",
            "                  Real          Imaginary           Modulus         Frequency\n",
            "-----------------------------------------------------------------------------\n",
            "AR.1            1.1017           -0.0000j            1.1017           -0.0000\n",
            "AR.2           -0.6242           -1.2544j            1.4011           -0.3235\n",
            "AR.3           -0.6242           +1.2544j            1.4011            0.3235\n",
            "-----------------------------------------------------------------------------\n"
          ]
        },
        {
          "output_type": "stream",
          "name": "stderr",
          "text": [
            "/usr/local/lib/python3.8/dist-packages/statsmodels/tsa/base/tsa_model.py:578: ValueWarning: An unsupported index was provided and will be ignored when e.g. forecasting.\n",
            "  warnings.warn('An unsupported index was provided and will be'\n",
            "/usr/local/lib/python3.8/dist-packages/statsmodels/tsa/ar_model.py:248: FutureWarning: The parameter names will change after 0.12 is released. Set old_names to False to use the new names now. Set old_names to True to use the old names. \n",
            "  warnings.warn(\n"
          ]
        }
      ]
    },
    {
      "cell_type": "code",
      "source": [
        "# Make the predictions\n",
        "#\n",
        "pred = ar_model.predict(start=len(train_data), end=(len(df)-1), dynamic=False)\n",
        "#\n",
        "# Plot the prediction vs test data\n",
        "#\n",
        "from matplotlib import pyplot as plt\n",
        "plt.plot(pred)\n",
        "plt.plot(test_data, color='red')"
      ],
      "metadata": {
        "colab": {
          "base_uri": "https://localhost:8080/",
          "height": 337
        },
        "id": "E_nQrkDtR5gd",
        "outputId": "04c2e597-61cd-412b-bba0-c1bef3366b1d"
      },
      "execution_count": 77,
      "outputs": [
        {
          "output_type": "stream",
          "name": "stderr",
          "text": [
            "/usr/local/lib/python3.8/dist-packages/statsmodels/tsa/base/tsa_model.py:376: ValueWarning: No supported index is available. Prediction results will be given with an integer index beginning at `start`.\n",
            "  warnings.warn('No supported index is available.'\n"
          ]
        },
        {
          "output_type": "execute_result",
          "data": {
            "text/plain": [
              "[<matplotlib.lines.Line2D at 0x7f395927b460>]"
            ]
          },
          "metadata": {},
          "execution_count": 77
        },
        {
          "output_type": "display_data",
          "data": {
            "text/plain": [
              "<Figure size 432x288 with 1 Axes>"
            ],
            "image/png": "[encoded data removed]"
          },
          "metadata": {
            "needs_background": "light"
          }
        }
      ]
    },
    {
      "cell_type": "code",
      "source": [
        "#not a great model!!"
      ],
      "metadata": {
        "id": "3UIvxsvWR5e-"
      },
      "execution_count": null,
      "outputs": []
    },
    {
      "cell_type": "code",
      "source": [
        "#plot the acf and pacf \n",
        "plot_acf(df['Prices'])"
      ],
      "metadata": {
        "colab": {
          "base_uri": "https://localhost:8080/",
          "height": 545
        },
        "id": "HVy10O4bWD_y",
        "outputId": "109e1462-fc31-4628-ce10-b58657a2a0e9"
      },
      "execution_count": 109,
      "outputs": [
        {
          "output_type": "execute_result",
          "data": {
            "text/plain": [
              "<Figure size 432x288 with 1 Axes>"
            ],
            "image/png": "[encoded data removed]"
          },
          "metadata": {},
          "execution_count": 109
        },
        {
          "output_type": "display_data",
          "data": {
            "text/plain": [
              "<Figure size 432x288 with 1 Axes>"
            ],
            "image/png": "[encoded data removed]"
          },
          "metadata": {
            "needs_background": "light"
          }
        }
      ]
    },
    {
      "cell_type": "code",
      "source": [
        "plot_pacf(df['Prices'])"
      ],
      "metadata": {
        "colab": {
          "base_uri": "https://localhost:8080/",
          "height": 545
        },
        "id": "BlCO80nTWZIV",
        "outputId": "9f0d259f-8f35-4a55-828e-a637312e0419"
      },
      "execution_count": 6,
      "outputs": [
        {
          "output_type": "execute_result",
          "data": {
            "text/plain": [
              "<Figure size 432x288 with 1 Axes>"
            ],
            "image/png": "[encoded data removed]"
          },
          "metadata": {},
          "execution_count": 6
        },
        {
          "output_type": "display_data",
          "data": {
            "text/plain": [
              "<Figure size 432x288 with 1 Axes>"
            ],
            "image/png": "[encoded data removed]"
          },
          "metadata": {
            "needs_background": "light"
          }
        }
      ]
    },
    {
      "cell_type": "code",
      "source": [
        "#it looks like an AR Process of order 3, so we will train our regression till 3 lags \n",
        "df['Price_t1'] = df['Prices'].shift()\n",
        "df['Price_t2'] = df['Price_t1'].shift()\n",
        "df['Price_t3'] = df['Price_t2'].shift()\n"
      ],
      "metadata": {
        "id": "LOHfAUh_Wv0M"
      },
      "execution_count": 30,
      "outputs": []
    },
    {
      "cell_type": "code",
      "source": [
        "df.fillna(0)"
      ],
      "metadata": {
        "colab": {
          "base_uri": "https://localhost:8080/",
          "height": 423
        },
        "id": "QnQ7fPBRYJPB",
        "outputId": "6dd0808f-d441-44e5-c282-30a80051263f"
      },
      "execution_count": 31,
      "outputs": [
        {
          "output_type": "execute_result",
          "data": {
            "text/plain": [
              "           Date      Prices    Price_t1    Price_t2    Price_t3\n",
              "0    2022-01-01   99.346617    0.000000    0.000000    0.000000\n",
              "1    2022-01-02   99.563825   99.346617    0.000000    0.000000\n",
              "2    2022-01-03  100.163220   99.563825   99.346617    0.000000\n",
              "3    2022-01-04   99.841533  100.163220   99.563825   99.346617\n",
              "4    2022-01-05  101.927683   99.841533  100.163220   99.563825\n",
              "..          ...         ...         ...         ...         ...\n",
              "360  2022-12-27  100.584309  102.025734  101.538205  100.283840\n",
              "361  2022-12-28  100.727467  100.584309  102.025734  101.538205\n",
              "362  2022-12-29  100.187050  100.727467  100.584309  102.025734\n",
              "363  2022-12-30   97.957102  100.187050  100.727467  100.584309\n",
              "364  2022-12-31  100.099359   97.957102  100.187050  100.727467\n",
              "\n",
              "[365 rows x 5 columns]"
            ],
            "text/html": [
              "\n",
              "  <div id=\"df-2b2f76e2-b6b4-47f1-866b-3202da4e2e61\">\n",
              "    <div class=\"colab-df-container\">\n",
              "      <div>\n",
              "<style scoped>\n",
              "    .dataframe tbody tr th:only-of-type {\n",
              "        vertical-align: middle;\n",
              "    }\n",
              "\n",
              "    .dataframe tbody tr th {\n",
              "        vertical-align: top;\n",
              "    }\n",
              "\n",
              "    .dataframe thead th {\n",
              "        text-align: right;\n",
              "    }\n",
              "</style>\n",
              "<table border=\"1\" class=\"dataframe\">\n",
              "  <thead>\n",
              "    <tr style=\"text-align: right;\">\n",
              "      <th></th>\n",
              "      <th>Date</th>\n",
              "      <th>Prices</th>\n",
              "      <th>Price_t1</th>\n",
              "      <th>Price_t2</th>\n",
              "      <th>Price_t3</th>\n",
              "    </tr>\n",
              "  </thead>\n",
              "  <tbody>\n",
              "    <tr>\n",
              "      <th>0</th>\n",
              "      <td>2022-01-01</td>\n",
              "      <td>99.346617</td>\n",
              "      <td>0.000000</td>\n",
              "      <td>0.000000</td>\n",
              "      <td>0.000000</td>\n",
              "    </tr>\n",
              "    <tr>\n",
              "      <th>1</th>\n",
              "      <td>2022-01-02</td>\n",
              "      <td>99.563825</td>\n",
              "      <td>99.346617</td>\n",
              "      <td>0.000000</td>\n",
              "      <td>0.000000</td>\n",
              "    </tr>\n",
              "    <tr>\n",
              "      <th>2</th>\n",
              "      <td>2022-01-03</td>\n",
              "      <td>100.163220</td>\n",
              "      <td>99.563825</td>\n",
              "      <td>99.346617</td>\n",
              "      <td>0.000000</td>\n",
              "    </tr>\n",
              "    <tr>\n",
              "      <th>3</th>\n",
              "      <td>2022-01-04</td>\n",
              "      <td>99.841533</td>\n",
              "      <td>100.163220</td>\n",
              "      <td>99.563825</td>\n",
              "      <td>99.346617</td>\n",
              "    </tr>\n",
              "    <tr>\n",
              "      <th>4</th>\n",
              "      <td>2022-01-05</td>\n",
              "      <td>101.927683</td>\n",
              "      <td>99.841533</td>\n",
              "      <td>100.163220</td>\n",
              "      <td>99.563825</td>\n",
              "    </tr>\n",
              "    <tr>\n",
              "      <th>...</th>\n",
              "      <td>...</td>\n",
              "      <td>...</td>\n",
              "      <td>...</td>\n",
              "      <td>...</td>\n",
              "      <td>...</td>\n",
              "    </tr>\n",
              "    <tr>\n",
              "      <th>360</th>\n",
              "      <td>2022-12-27</td>\n",
              "      <td>100.584309</td>\n",
              "      <td>102.025734</td>\n",
              "      <td>101.538205</td>\n",
              "      <td>100.283840</td>\n",
              "    </tr>\n",
              "    <tr>\n",
              "      <th>361</th>\n",
              "      <td>2022-12-28</td>\n",
              "      <td>100.727467</td>\n",
              "      <td>100.584309</td>\n",
              "      <td>102.025734</td>\n",
              "      <td>101.538205</td>\n",
              "    </tr>\n",
              "    <tr>\n",
              "      <th>362</th>\n",
              "      <td>2022-12-29</td>\n",
              "      <td>100.187050</td>\n",
              "      <td>100.727467</td>\n",
              "      <td>100.584309</td>\n",
              "      <td>102.025734</td>\n",
              "    </tr>\n",
              "    <tr>\n",
              "      <th>363</th>\n",
              "      <td>2022-12-30</td>\n",
              "      <td>97.957102</td>\n",
              "      <td>100.187050</td>\n",
              "      <td>100.727467</td>\n",
              "      <td>100.584309</td>\n",
              "    </tr>\n",
              "    <tr>\n",
              "      <th>364</th>\n",
              "      <td>2022-12-31</td>\n",
              "      <td>100.099359</td>\n",
              "      <td>97.957102</td>\n",
              "      <td>100.187050</td>\n",
              "      <td>100.727467</td>\n",
              "    </tr>\n",
              "  </tbody>\n",
              "</table>\n",
              "<p>365 rows × 5 columns</p>\n",
              "</div>\n",
              "      <button class=\"colab-df-convert\" onclick=\"convertToInteractive('df-2b2f76e2-b6b4-47f1-866b-3202da4e2e61')\"\n",
              "              title=\"Convert this dataframe to an interactive table.\"\n",
              "              style=\"display:none;\">\n",
              "        \n",
              "  <svg xmlns=\"http://www.w3.org/2000/svg\" height=\"24px\"viewBox=\"0 0 24 24\"\n",
              "       width=\"24px\">\n",
              "    <path d=\"M0 0h24v24H0V0z\" fill=\"none\"/>\n",
              "    <path d=\"M18.56 5.44l.94 2.06.94-2.06 2.06-.94-2.06-.94-.94-2.06-.94 2.06-2.06.94zm-11 1L8.5 8.5l.94-2.06 2.06-.94-2.06-.94L8.5 2.5l-.94 2.06-2.06.94zm10 10l.94 2.06.94-2.06 2.06-.94-2.06-.94-.94-2.06-.94 2.06-2.06.94z\"/><path d=\"M17.41 7.96l-1.37-1.37c-.4-.4-.92-.59-1.43-.59-.52 0-1.04.2-1.43.59L10.3 9.45l-7.72 7.72c-.78.78-.78 2.05 0 2.83L4 21.41c.39.39.9.59 1.41.59.51 0 1.02-.2 1.41-.59l7.78-7.78 2.81-2.81c.8-.78.8-2.07 0-2.86zM5.41 20L4 18.59l7.72-7.72 1.47 1.35L5.41 20z\"/>\n",
              "  </svg>\n",
              "      </button>\n",
              "      \n",
              "  <style>\n",
              "    .colab-df-container {\n",
              "      display:flex;\n",
              "      flex-wrap:wrap;\n",
              "      gap: 12px;\n",
              "    }\n",
              "\n",
              "    .colab-df-convert {\n",
              "      background-color: #E8F0FE;\n",
              "      border: none;\n",
              "      border-radius: 50%;\n",
              "      cursor: pointer;\n",
              "      display: none;\n",
              "      fill: #1967D2;\n",
              "      height: 32px;\n",
              "      padding: 0 0 0 0;\n",
              "      width: 32px;\n",
              "    }\n",
              "\n",
              "    .colab-df-convert:hover {\n",
              "      background-color: #E2EBFA;\n",
              "      box-shadow: 0px 1px 2px rgba(60, 64, 67, 0.3), 0px 1px 3px 1px rgba(60, 64, 67, 0.15);\n",
              "      fill: #174EA6;\n",
              "    }\n",
              "\n",
              "    [theme=dark] .colab-df-convert {\n",
              "      background-color: #3B4455;\n",
              "      fill: #D2E3FC;\n",
              "    }\n",
              "\n",
              "    [theme=dark] .colab-df-convert:hover {\n",
              "      background-color: #434B5C;\n",
              "      box-shadow: 0px 1px 3px 1px rgba(0, 0, 0, 0.15);\n",
              "      filter: drop-shadow(0px 1px 2px rgba(0, 0, 0, 0.3));\n",
              "      fill: #FFFFFF;\n",
              "    }\n",
              "  </style>\n",
              "\n",
              "      <script>\n",
              "        const buttonEl =\n",
              "          document.querySelector('#df-2b2f76e2-b6b4-47f1-866b-3202da4e2e61 button.colab-df-convert');\n",
              "        buttonEl.style.display =\n",
              "          google.colab.kernel.accessAllowed ? 'block' : 'none';\n",
              "\n",
              "        async function convertToInteractive(key) {\n",
              "          const element = document.querySelector('#df-2b2f76e2-b6b4-47f1-866b-3202da4e2e61');\n",
              "          const dataTable =\n",
              "            await google.colab.kernel.invokeFunction('convertToInteractive',\n",
              "                                                     [key], {});\n",
              "          if (!dataTable) return;\n",
              "\n",
              "          const docLinkHtml = 'Like what you see? Visit the ' +\n",
              "            '<a target=\"_blank\" href=https://colab.research.google.com/notebooks/data_table.ipynb>data table notebook</a>'\n",
              "            + ' to learn more about interactive tables.';\n",
              "          element.innerHTML = '';\n",
              "          dataTable['output_type'] = 'display_data';\n",
              "          await google.colab.output.renderOutput(dataTable, element);\n",
              "          const docLink = document.createElement('div');\n",
              "          docLink.innerHTML = docLinkHtml;\n",
              "          element.appendChild(docLink);\n",
              "        }\n",
              "      </script>\n",
              "    </div>\n",
              "  </div>\n",
              "  "
            ]
          },
          "metadata": {},
          "execution_count": 31
        }
      ]
    },
    {
      "cell_type": "code",
      "source": [
        "\n",
        "df.dropna(inplace=True)\n",
        "y = df['Prices'].values\n",
        "x = df[['Price_t1', 'Price_t2', 'Price_t3']].values\n",
        "len(x)\n"
      ],
      "metadata": {
        "colab": {
          "base_uri": "https://localhost:8080/"
        },
        "id": "Z9xxgZbWYRT0",
        "outputId": "2af5d161-42ba-4303-dbdd-e408fe1ff8bd"
      },
      "execution_count": 96,
      "outputs": [
        {
          "output_type": "execute_result",
          "data": {
            "text/plain": [
              "362"
            ]
          },
          "metadata": {},
          "execution_count": 96
        }
      ]
    },
    {
      "cell_type": "code",
      "source": [
        "test_train = int(len(x) * 0.80)\n",
        "\n",
        "\n",
        "X_train, X_test = x[0:test_train], x[test_train:len(x)]\n",
        "y_train, y_test = y[0:test_train], y[test_train:len(x)]\n",
        "X_train = X_train.reshape(-1,3)\n",
        "X_test = X_test.reshape(-1,3)\n"
      ],
      "metadata": {
        "id": "OvRrsM-IINhz"
      },
      "execution_count": 98,
      "outputs": []
    },
    {
      "cell_type": "code",
      "source": [
        "lr = LinearRegression()\n",
        "lr.fit(X_train, y_train)"
      ],
      "metadata": {
        "colab": {
          "base_uri": "https://localhost:8080/"
        },
        "id": "C4BXVGbwMQA8",
        "outputId": "7b218726-a0c0-452e-f51e-12f8d780af82"
      },
      "execution_count": 100,
      "outputs": [
        {
          "output_type": "execute_result",
          "data": {
            "text/plain": [
              "LinearRegression()"
            ]
          },
          "metadata": {},
          "execution_count": 100
        }
      ]
    },
    {
      "cell_type": "code",
      "source": [
        "print(lr.coef_)\n",
        "print(lr.intercept_)\n"
      ],
      "metadata": {
        "colab": {
          "base_uri": "https://localhost:8080/"
        },
        "id": "W-UHoT4wO6aO",
        "outputId": "10d80cd5-a6a7-4eae-fcbf-0a86cb87819e"
      },
      "execution_count": 101,
      "outputs": [
        {
          "output_type": "stream",
          "name": "stdout",
          "text": [
            "[0.27419338 0.06956667 0.46114882]\n",
            "19.505971351889386\n"
          ]
        }
      ]
    },
    {
      "cell_type": "code",
      "source": [
        "y_pred = lr.predict(X_test)\n",
        "\n",
        "\n",
        "plt.plot(y_test, label=\"Actual Values\")\n",
        "plt.plot(y_pred, label=\"Predicted Values\")\n",
        "plt.legend()\n",
        "plt.show()\n",
        "     \n",
        "\n",
        "\n",
        "\n",
        "     "
      ],
      "metadata": {
        "colab": {
          "base_uri": "https://localhost:8080/",
          "height": 265
        },
        "id": "6XXYL6x1PCwj",
        "outputId": "6f979b2b-0d03-4f84-a8f7-cd63154ab028"
      },
      "execution_count": 108,
      "outputs": [
        {
          "output_type": "display_data",
          "data": {
            "text/plain": [
              "<Figure size 432x288 with 1 Axes>"
            ],
            "image/png": "[encoded data removed]"
          },
          "metadata": {
            "needs_background": "light"
          }
        }
      ]
    },
    {
      "cell_type": "code",
      "source": [
        "r2_score(y_test, y_pred)"
      ],
      "metadata": {
        "colab": {
          "base_uri": "https://localhost:8080/"
        },
        "id": "yrPActZvPTv0",
        "outputId": "85f322aa-9fa5-46bc-ff51-8d4fc11fc415"
      },
      "execution_count": 103,
      "outputs": [
        {
          "output_type": "execute_result",
          "data": {
            "text/plain": [
              "0.16380710278864363"
            ]
          },
          "metadata": {},
          "execution_count": 103
        }
      ]
    },
    {
      "cell_type": "code",
      "source": [
        "#low r2 score, however, shows a good correlation with the actual graph"
      ],
      "metadata": {
        "id": "UPtIka2qUX-q"
      },
      "execution_count": 110,
      "outputs": []
    },
    {
      "cell_type": "code",
      "source": [],
      "metadata": {
        "id": "9GCviiesP77A"
      },
      "execution_count": null,
      "outputs": []
    }
  ]
}