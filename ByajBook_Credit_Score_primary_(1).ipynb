{
  "cells": [
    {
      "cell_type": "markdown",
      "metadata": {
        "id": "view-in-github",
        "colab_type": "text"
      },
      "source": [
        "<a href=\"https://colab.research.google.com/github/gaurav15raj/Coursera-Machine-Learning-Python-/blob/master/ByajBook_Credit_Score_primary_(1).ipynb\" target=\"_parent\"><img src=\"https://colab.research.google.com/assets/colab-badge.svg\" alt=\"Open In Colab\"/></a>"
      ]
    },
    {
      "cell_type": "code",
      "execution_count": null,
      "id": "656b1fc3",
      "metadata": {
        "id": "656b1fc3"
      },
      "outputs": [],
      "source": [
        "import pandas as pd "
      ]
    },
    {
      "cell_type": "code",
      "execution_count": null,
      "id": "53d38762",
      "metadata": {
        "id": "53d38762"
      },
      "outputs": [],
      "source": [
        "df = pd.read_csv('C:/Users/gaura/Downloads/NAcorrected.csv')"
      ]
    },
    {
      "cell_type": "code",
      "execution_count": null,
      "id": "94940890",
      "metadata": {
        "id": "94940890",
        "outputId": "7992b1ec-8a22-40b2-da7f-947b87237b83"
      },
      "outputs": [
        {
          "data": {
            "text/html": [
              "<div>\n",
              "<style scoped>\n",
              "    .dataframe tbody tr th:only-of-type {\n",
              "        vertical-align: middle;\n",
              "    }\n",
              "\n",
              "    .dataframe tbody tr th {\n",
              "        vertical-align: top;\n",
              "    }\n",
              "\n",
              "    .dataframe thead th {\n",
              "        text-align: right;\n",
              "    }\n",
              "</style>\n",
              "<table border=\"1\" class=\"dataframe\">\n",
              "  <thead>\n",
              "    <tr style=\"text-align: right;\">\n",
              "      <th></th>\n",
              "      <th>Unnamed: 0</th>\n",
              "      <th>lead_id</th>\n",
              "      <th>created_At</th>\n",
              "      <th>sub_period</th>\n",
              "      <th>sub_duration</th>\n",
              "      <th>lent_loans</th>\n",
              "      <th>borrowed_loans</th>\n",
              "      <th>lent_amount</th>\n",
              "      <th>borrowed_amount</th>\n",
              "      <th>closed_lent</th>\n",
              "      <th>...</th>\n",
              "      <th>recovered_august</th>\n",
              "      <th>recovered_september</th>\n",
              "      <th>recovered_october</th>\n",
              "      <th>recovered_november</th>\n",
              "      <th>transactions_june</th>\n",
              "      <th>transactions_july</th>\n",
              "      <th>transactions_august</th>\n",
              "      <th>transactions_september</th>\n",
              "      <th>transactions_october</th>\n",
              "      <th>transactions_november</th>\n",
              "    </tr>\n",
              "  </thead>\n",
              "  <tbody>\n",
              "    <tr>\n",
              "      <th>0</th>\n",
              "      <td>0</td>\n",
              "      <td>312</td>\n",
              "      <td>30-06-2021 16:24</td>\n",
              "      <td>5</td>\n",
              "      <td>5</td>\n",
              "      <td>3</td>\n",
              "      <td>3</td>\n",
              "      <td>10001376205</td>\n",
              "      <td>1250000</td>\n",
              "      <td>1</td>\n",
              "      <td>...</td>\n",
              "      <td>0.00</td>\n",
              "      <td>50000.0</td>\n",
              "      <td>0.0</td>\n",
              "      <td>0.00</td>\n",
              "      <td>0</td>\n",
              "      <td>0</td>\n",
              "      <td>0</td>\n",
              "      <td>3</td>\n",
              "      <td>0</td>\n",
              "      <td>0</td>\n",
              "    </tr>\n",
              "    <tr>\n",
              "      <th>1</th>\n",
              "      <td>1</td>\n",
              "      <td>173382</td>\n",
              "      <td>13-07-2021 04:26</td>\n",
              "      <td>13</td>\n",
              "      <td>13</td>\n",
              "      <td>11</td>\n",
              "      <td>4</td>\n",
              "      <td>191956</td>\n",
              "      <td>21555</td>\n",
              "      <td>0</td>\n",
              "      <td>...</td>\n",
              "      <td>0.00</td>\n",
              "      <td>0.0</td>\n",
              "      <td>0.0</td>\n",
              "      <td>0.00</td>\n",
              "      <td>0</td>\n",
              "      <td>0</td>\n",
              "      <td>0</td>\n",
              "      <td>0</td>\n",
              "      <td>0</td>\n",
              "      <td>0</td>\n",
              "    </tr>\n",
              "    <tr>\n",
              "      <th>2</th>\n",
              "      <td>2</td>\n",
              "      <td>95170</td>\n",
              "      <td>14-03-2022 18:37</td>\n",
              "      <td>13</td>\n",
              "      <td>13</td>\n",
              "      <td>15</td>\n",
              "      <td>1</td>\n",
              "      <td>582000</td>\n",
              "      <td>10000</td>\n",
              "      <td>10</td>\n",
              "      <td>...</td>\n",
              "      <td>1000.00</td>\n",
              "      <td>0.0</td>\n",
              "      <td>0.0</td>\n",
              "      <td>509249.07</td>\n",
              "      <td>2</td>\n",
              "      <td>0</td>\n",
              "      <td>1</td>\n",
              "      <td>0</td>\n",
              "      <td>0</td>\n",
              "      <td>8</td>\n",
              "    </tr>\n",
              "    <tr>\n",
              "      <th>3</th>\n",
              "      <td>3</td>\n",
              "      <td>84</td>\n",
              "      <td>25-06-2021 12:25</td>\n",
              "      <td>731</td>\n",
              "      <td>167</td>\n",
              "      <td>33</td>\n",
              "      <td>2</td>\n",
              "      <td>396594</td>\n",
              "      <td>110000</td>\n",
              "      <td>5</td>\n",
              "      <td>...</td>\n",
              "      <td>0.00</td>\n",
              "      <td>0.0</td>\n",
              "      <td>0.0</td>\n",
              "      <td>0.00</td>\n",
              "      <td>0</td>\n",
              "      <td>1</td>\n",
              "      <td>0</td>\n",
              "      <td>0</td>\n",
              "      <td>0</td>\n",
              "      <td>0</td>\n",
              "    </tr>\n",
              "    <tr>\n",
              "      <th>4</th>\n",
              "      <td>4</td>\n",
              "      <td>67225</td>\n",
              "      <td>22-01-2022 13:06</td>\n",
              "      <td>31</td>\n",
              "      <td>31</td>\n",
              "      <td>109</td>\n",
              "      <td>1</td>\n",
              "      <td>1842850</td>\n",
              "      <td>10000</td>\n",
              "      <td>35</td>\n",
              "      <td>...</td>\n",
              "      <td>67267.19</td>\n",
              "      <td>64450.0</td>\n",
              "      <td>127033.4</td>\n",
              "      <td>170199.38</td>\n",
              "      <td>1</td>\n",
              "      <td>26</td>\n",
              "      <td>74</td>\n",
              "      <td>78</td>\n",
              "      <td>76</td>\n",
              "      <td>85</td>\n",
              "    </tr>\n",
              "  </tbody>\n",
              "</table>\n",
              "<p>5 rows × 72 columns</p>\n",
              "</div>"
            ],
            "text/plain": [
              "   Unnamed: 0  lead_id        created_At  sub_period  sub_duration  \\\n",
              "0           0      312  30-06-2021 16:24           5             5   \n",
              "1           1   173382  13-07-2021 04:26          13            13   \n",
              "2           2    95170  14-03-2022 18:37          13            13   \n",
              "3           3       84  25-06-2021 12:25         731           167   \n",
              "4           4    67225  22-01-2022 13:06          31            31   \n",
              "\n",
              "   lent_loans  borrowed_loans  lent_amount  borrowed_amount  closed_lent  ...  \\\n",
              "0           3               3  10001376205          1250000            1  ...   \n",
              "1          11               4       191956            21555            0  ...   \n",
              "2          15               1       582000            10000           10  ...   \n",
              "3          33               2       396594           110000            5  ...   \n",
              "4         109               1      1842850            10000           35  ...   \n",
              "\n",
              "   recovered_august  recovered_september  recovered_october  \\\n",
              "0              0.00              50000.0                0.0   \n",
              "1              0.00                  0.0                0.0   \n",
              "2           1000.00                  0.0                0.0   \n",
              "3              0.00                  0.0                0.0   \n",
              "4          67267.19              64450.0           127033.4   \n",
              "\n",
              "   recovered_november  transactions_june  transactions_july  \\\n",
              "0                0.00                  0                  0   \n",
              "1                0.00                  0                  0   \n",
              "2           509249.07                  2                  0   \n",
              "3                0.00                  0                  1   \n",
              "4           170199.38                  1                 26   \n",
              "\n",
              "   transactions_august  transactions_september  transactions_october  \\\n",
              "0                    0                       3                     0   \n",
              "1                    0                       0                     0   \n",
              "2                    1                       0                     0   \n",
              "3                    0                       0                     0   \n",
              "4                   74                      78                    76   \n",
              "\n",
              "   transactions_november  \n",
              "0                      0  \n",
              "1                      0  \n",
              "2                      8  \n",
              "3                      0  \n",
              "4                     85  \n",
              "\n",
              "[5 rows x 72 columns]"
            ]
          },
          "execution_count": 6,
          "metadata": {},
          "output_type": "execute_result"
        }
      ],
      "source": [
        "df.head()"
      ]
    },
    {
      "cell_type": "code",
      "execution_count": null,
      "id": "8410f972",
      "metadata": {
        "id": "8410f972",
        "outputId": "44173a1c-697b-488d-8fff-7284941bc787"
      },
      "outputs": [
        {
          "name": "stdout",
          "output_type": "stream",
          "text": [
            "<class 'pandas.core.frame.DataFrame'>\n",
            "RangeIndex: 3021 entries, 0 to 3020\n",
            "Data columns (total 72 columns):\n",
            " #   Column                        Non-Null Count  Dtype  \n",
            "---  ------                        --------------  -----  \n",
            " 0   Unnamed: 0                    3021 non-null   int64  \n",
            " 1   lead_id                       3021 non-null   int64  \n",
            " 2   created_At                    3021 non-null   object \n",
            " 3   sub_period                    3021 non-null   int64  \n",
            " 4   sub_duration                  3021 non-null   int64  \n",
            " 5   lent_loans                    3021 non-null   int64  \n",
            " 6   borrowed_loans                3021 non-null   int64  \n",
            " 7   lent_amount                   3021 non-null   int64  \n",
            " 8   borrowed_amount               3021 non-null   int64  \n",
            " 9   closed_lent                   3021 non-null   int64  \n",
            " 10  closed_borrowed               3021 non-null   int64  \n",
            " 11  avg_lent_duration_closed      3021 non-null   float64\n",
            " 12  avg_lent_duration             3021 non-null   float64\n",
            " 13  avg_borrowed_duration_closed  3021 non-null   float64\n",
            " 14  avg_borrowed_duration         3021 non-null   float64\n",
            " 15  mortgage_count                1075 non-null   float64\n",
            " 16  qt_gold                       1075 non-null   float64\n",
            " 17  qt_silver                     1075 non-null   float64\n",
            " 18  count_gold                    1075 non-null   float64\n",
            " 19  count_silver                  1075 non-null   float64\n",
            " 20  lent_cnt_june                 3021 non-null   int64  \n",
            " 21  lent_cnt_july                 3021 non-null   int64  \n",
            " 22  lent_cnt_august               3021 non-null   int64  \n",
            " 23  lent_cnt_september            3021 non-null   int64  \n",
            " 24  lent_cnt_october              3021 non-null   int64  \n",
            " 25  lent_cnt_november             3021 non-null   int64  \n",
            " 26  lent_june                     3021 non-null   int64  \n",
            " 27  lent_july                     3021 non-null   int64  \n",
            " 28  lent_august                   3021 non-null   int64  \n",
            " 29  lent_september                3021 non-null   int64  \n",
            " 30  lent_october                  3021 non-null   int64  \n",
            " 31  lent_november                 3021 non-null   int64  \n",
            " 32  borrowed_cnt_june             3021 non-null   int64  \n",
            " 33  borrowed_cnt_july             3021 non-null   int64  \n",
            " 34  borrowed_cnt_august           3021 non-null   int64  \n",
            " 35  borrowed_cnt_september        3021 non-null   int64  \n",
            " 36  borrowed_cnt_october          3021 non-null   int64  \n",
            " 37  borrowed_cnt_november         3021 non-null   int64  \n",
            " 38  borrowed_june                 3021 non-null   int64  \n",
            " 39  borrowed_july                 3021 non-null   int64  \n",
            " 40  borrowed_august               3021 non-null   int64  \n",
            " 41  borrowed_september            3021 non-null   int64  \n",
            " 42  borrowed_october              3021 non-null   int64  \n",
            " 43  borrowed_november             3021 non-null   int64  \n",
            " 44  amount_paid_by                3021 non-null   float64\n",
            " 45  amount_paid_to                3021 non-null   float64\n",
            " 46  outgoing_payments             3021 non-null   int64  \n",
            " 47  incoming_payments             3021 non-null   int64  \n",
            " 48  cash_txns                     3021 non-null   int64  \n",
            " 49  upi_txns                      3021 non-null   int64  \n",
            " 50  other_txns                    3021 non-null   int64  \n",
            " 51  avg_amount_paid_by            733 non-null    float64\n",
            " 52  avg_amount_paid_to            1524 non-null   float64\n",
            " 53  txn_remarks                   3021 non-null   int64  \n",
            " 54  repayment_june                3021 non-null   float64\n",
            " 55  repayment_july                3021 non-null   float64\n",
            " 56  repayment_august              3021 non-null   float64\n",
            " 57  repayment_september           3021 non-null   float64\n",
            " 58  repayment_october             3021 non-null   float64\n",
            " 59  repayment_november            3021 non-null   float64\n",
            " 60  recovered_june                3021 non-null   float64\n",
            " 61  recovered_july                3021 non-null   float64\n",
            " 62  recovered_august              3021 non-null   float64\n",
            " 63  recovered_september           3021 non-null   float64\n",
            " 64  recovered_october             3021 non-null   float64\n",
            " 65  recovered_november            3021 non-null   float64\n",
            " 66  transactions_june             3021 non-null   int64  \n",
            " 67  transactions_july             3021 non-null   int64  \n",
            " 68  transactions_august           3021 non-null   int64  \n",
            " 69  transactions_september        3021 non-null   int64  \n",
            " 70  transactions_october          3021 non-null   int64  \n",
            " 71  transactions_november         3021 non-null   int64  \n",
            "dtypes: float64(25), int64(46), object(1)\n",
            "memory usage: 1.7+ MB\n"
          ]
        }
      ],
      "source": [
        "df.info()"
      ]
    },
    {
      "cell_type": "code",
      "execution_count": null,
      "id": "06c93deb",
      "metadata": {
        "id": "06c93deb"
      },
      "outputs": [],
      "source": [
        "collist = list(df)"
      ]
    },
    {
      "cell_type": "code",
      "execution_count": null,
      "id": "863a29b8",
      "metadata": {
        "id": "863a29b8"
      },
      "outputs": [],
      "source": [
        "removelist = ['updated_at',\n",
        " 'referred_by',\n",
        " 'profile_pic',\n",
        " 'signature',\n",
        " 'remarks',\n",
        " 'avg_reminder_days',\n",
        " 'avg_reminder_interval',\n",
        " 'mortgage_remarks',\n",
        " 'mortgage_image_count',\n",
        " 'read_only_txns',\n",
        " 'contact_count',\n",
        " 'referral_count',\n",
        " 'user_txns']\n"
      ]
    },
    {
      "cell_type": "code",
      "execution_count": null,
      "id": "608ea37f",
      "metadata": {
        "id": "608ea37f"
      },
      "outputs": [],
      "source": [
        "import matplotlib.pyplot as plt\n",
        "\n",
        "\n",
        "# plt.hist(df['language'])\n",
        "# plt.show()"
      ]
    },
    {
      "cell_type": "code",
      "execution_count": null,
      "id": "e30eb10b",
      "metadata": {
        "id": "e30eb10b"
      },
      "outputs": [],
      "source": [
        "df['qt_gold'] = df['qt_gold'].fillna(0)\n",
        "import seaborn as sb\n"
      ]
    },
    {
      "cell_type": "code",
      "execution_count": null,
      "id": "d8332353",
      "metadata": {
        "id": "d8332353"
      },
      "outputs": [],
      "source": []
    },
    {
      "cell_type": "code",
      "execution_count": null,
      "id": "11296cf0",
      "metadata": {
        "id": "11296cf0"
      },
      "outputs": [],
      "source": [
        "\n",
        "list1 = ['mortgage_count','qt_gold','qt_silver', 'count_gold','count_silver','avg_amount_paid_by','avg_amount_paid_to']\n",
        "for i in list1: \n",
        "  df[i]= df[i].fillna(0)"
      ]
    },
    {
      "cell_type": "code",
      "execution_count": null,
      "id": "c2346276",
      "metadata": {
        "id": "c2346276",
        "outputId": "31c85cb6-3644-44f1-9df2-849f764cbc03"
      },
      "outputs": [
        {
          "name": "stdout",
          "output_type": "stream",
          "text": [
            "Unnamed: 0  :  0\n",
            "lead_id  :  0\n",
            "created_At  :  0\n",
            "sub_period  :  0\n",
            "sub_duration  :  0\n",
            "lent_loans  :  0\n",
            "borrowed_loans  :  0\n",
            "lent_amount  :  0\n",
            "borrowed_amount  :  0\n",
            "closed_lent  :  0\n",
            "closed_borrowed  :  0\n",
            "avg_lent_duration_closed  :  0\n",
            "avg_lent_duration  :  0\n",
            "avg_borrowed_duration_closed  :  0\n",
            "avg_borrowed_duration  :  0\n",
            "mortgage_count  :  0\n",
            "qt_gold  :  0\n",
            "qt_silver  :  0\n",
            "count_gold  :  0\n",
            "count_silver  :  0\n",
            "lent_cnt_june  :  0\n",
            "lent_cnt_july  :  0\n",
            "lent_cnt_august  :  0\n",
            "lent_cnt_september  :  0\n",
            "lent_cnt_october  :  0\n",
            "lent_cnt_november  :  0\n",
            "lent_june  :  0\n",
            "lent_july  :  0\n",
            "lent_august  :  0\n",
            "lent_september  :  0\n",
            "lent_october  :  0\n",
            "lent_november  :  0\n",
            "borrowed_cnt_june  :  0\n",
            "borrowed_cnt_july  :  0\n",
            "borrowed_cnt_august  :  0\n",
            "borrowed_cnt_september  :  0\n",
            "borrowed_cnt_october  :  0\n",
            "borrowed_cnt_november  :  0\n",
            "borrowed_june  :  0\n",
            "borrowed_july  :  0\n",
            "borrowed_august  :  0\n",
            "borrowed_september  :  0\n",
            "borrowed_october  :  0\n",
            "borrowed_november  :  0\n",
            "amount_paid_by  :  0\n",
            "amount_paid_to  :  0\n",
            "outgoing_payments  :  0\n",
            "incoming_payments  :  0\n",
            "cash_txns  :  0\n",
            "upi_txns  :  0\n",
            "other_txns  :  0\n",
            "avg_amount_paid_by  :  0\n",
            "avg_amount_paid_to  :  0\n",
            "txn_remarks  :  0\n",
            "repayment_june  :  0\n",
            "repayment_july  :  0\n",
            "repayment_august  :  0\n",
            "repayment_september  :  0\n",
            "repayment_october  :  0\n",
            "repayment_november  :  0\n",
            "recovered_june  :  0\n",
            "recovered_july  :  0\n",
            "recovered_august  :  0\n",
            "recovered_september  :  0\n",
            "recovered_october  :  0\n",
            "recovered_november  :  0\n",
            "transactions_june  :  0\n",
            "transactions_july  :  0\n",
            "transactions_august  :  0\n",
            "transactions_september  :  0\n",
            "transactions_october  :  0\n",
            "transactions_november  :  0\n"
          ]
        }
      ],
      "source": [
        "for x in collist:\n",
        "  y = df[x].isna().sum()\n",
        "  print(x, \" : \", y)"
      ]
    },
    {
      "cell_type": "code",
      "execution_count": null,
      "id": "6ef203cf",
      "metadata": {
        "id": "6ef203cf"
      },
      "outputs": [],
      "source": [
        "df.loc[df.index[(df['avg_lent_duration'] ==0)], 'avg_lent_duration'] = 1"
      ]
    },
    {
      "cell_type": "code",
      "execution_count": null,
      "id": "a2db58e0",
      "metadata": {
        "id": "a2db58e0"
      },
      "outputs": [],
      "source": [
        "df.loc[df.index[(df['avg_borrowed_duration'] ==0)], 'avg_borrowed_duration'] = 1"
      ]
    },
    {
      "cell_type": "code",
      "execution_count": null,
      "id": "29b989d3",
      "metadata": {
        "id": "29b989d3"
      },
      "outputs": [],
      "source": [
        "# df['avg_lent_duration'] = df[\"avg_lent_duration\"].fillna(0)\n",
        "# df['avg_lent_duration_closed'] = df[\"avg_lent_duration_closed\"].fillna(0)\n",
        "# df['avg_borrowed_duration'] = df['avg_borrowed_duration'].fillna(0)\n",
        "# df['avg_borrowed_duration_closed'] = df['avg_borrowed_duration_closed'].fillna(0)\n"
      ]
    },
    {
      "cell_type": "code",
      "execution_count": null,
      "id": "0f6ed354",
      "metadata": {
        "id": "0f6ed354",
        "outputId": "f88c17f1-1e51-4fbf-c580-7f56faa739ec"
      },
      "outputs": [
        {
          "data": {
            "text/plain": [
              "Index(['Unnamed: 0', 'lead_id', 'created_At', 'sub_period', 'sub_duration',\n",
              "       'lent_loans', 'borrowed_loans', 'lent_amount', 'borrowed_amount',\n",
              "       'closed_lent', 'closed_borrowed', 'avg_lent_duration_closed',\n",
              "       'avg_lent_duration', 'avg_borrowed_duration_closed',\n",
              "       'avg_borrowed_duration', 'mortgage_count', 'qt_gold', 'qt_silver',\n",
              "       'count_gold', 'count_silver', 'lent_cnt_june', 'lent_cnt_july',\n",
              "       'lent_cnt_august', 'lent_cnt_september', 'lent_cnt_october',\n",
              "       'lent_cnt_november', 'lent_june', 'lent_july', 'lent_august',\n",
              "       'lent_september', 'lent_october', 'lent_november', 'borrowed_cnt_june',\n",
              "       'borrowed_cnt_july', 'borrowed_cnt_august', 'borrowed_cnt_september',\n",
              "       'borrowed_cnt_october', 'borrowed_cnt_november', 'borrowed_june',\n",
              "       'borrowed_july', 'borrowed_august', 'borrowed_september',\n",
              "       'borrowed_october', 'borrowed_november', 'amount_paid_by',\n",
              "       'amount_paid_to', 'outgoing_payments', 'incoming_payments', 'cash_txns',\n",
              "       'upi_txns', 'other_txns', 'avg_amount_paid_by', 'avg_amount_paid_to',\n",
              "       'txn_remarks', 'repayment_june', 'repayment_july', 'repayment_august',\n",
              "       'repayment_september', 'repayment_october', 'repayment_november',\n",
              "       'recovered_june', 'recovered_july', 'recovered_august',\n",
              "       'recovered_september', 'recovered_october', 'recovered_november',\n",
              "       'transactions_june', 'transactions_july', 'transactions_august',\n",
              "       'transactions_september', 'transactions_october',\n",
              "       'transactions_november'],\n",
              "      dtype='object')"
            ]
          },
          "execution_count": 17,
          "metadata": {},
          "output_type": "execute_result"
        }
      ],
      "source": [
        "# list3 = ['avg_lent_interest_rate', 'avg_borrowed_interest_rate']\n",
        "# for i in list3:\n",
        "#     df[i]= df[i]/12\n",
        "df.columns"
      ]
    },
    {
      "cell_type": "code",
      "execution_count": null,
      "id": "f79c6bac",
      "metadata": {
        "id": "f79c6bac"
      },
      "outputs": [],
      "source": [
        "df.head()\n",
        "df = df.drop(0, axis = 0)"
      ]
    },
    {
      "cell_type": "code",
      "execution_count": null,
      "id": "1394e207",
      "metadata": {
        "id": "1394e207"
      },
      "outputs": [],
      "source": [
        "df.to_csv('C:/Users/gaura/Downloads/data3new.csv')"
      ]
    },
    {
      "cell_type": "code",
      "execution_count": null,
      "id": "22dded78",
      "metadata": {
        "id": "22dded78"
      },
      "outputs": [],
      "source": [
        "# for x in collist:\n",
        "#   y = df[x].isna().sum()\n",
        "#   print(x, \" : \", y)"
      ]
    },
    {
      "cell_type": "code",
      "execution_count": null,
      "id": "ae4258f4",
      "metadata": {
        "id": "ae4258f4"
      },
      "outputs": [],
      "source": [
        "df['net'] = df['lent_amount'] - df['borrowed_amount']"
      ]
    },
    {
      "cell_type": "markdown",
      "id": "5c37c463",
      "metadata": {
        "id": "5c37c463"
      },
      "source": []
    },
    {
      "cell_type": "code",
      "execution_count": null,
      "id": "65e543f0",
      "metadata": {
        "id": "65e543f0",
        "outputId": "d6924615-0a4a-4dc8-b957-820597a92490"
      },
      "outputs": [
        {
          "data": {
            "text/plain": [
              "1        170401\n",
              "2        572000\n",
              "3        286594\n",
              "4       1832850\n",
              "5        156301\n",
              "         ...   \n",
              "3016          0\n",
              "3017     260100\n",
              "3018     100000\n",
              "3019      90000\n",
              "3020     245000\n",
              "Name: net, Length: 3020, dtype: int64"
            ]
          },
          "execution_count": 22,
          "metadata": {},
          "output_type": "execute_result"
        }
      ],
      "source": [
        "df['net']"
      ]
    },
    {
      "cell_type": "code",
      "execution_count": null,
      "id": "3ef5a0b4",
      "metadata": {
        "id": "3ef5a0b4"
      },
      "outputs": [],
      "source": [
        "df2 = df.copy(deep = True)"
      ]
    },
    {
      "cell_type": "code",
      "execution_count": null,
      "id": "3189d2b1",
      "metadata": {
        "id": "3189d2b1"
      },
      "outputs": [],
      "source": [
        "df2 = df2.drop('Unnamed: 0', axis = 1)"
      ]
    },
    {
      "cell_type": "markdown",
      "id": "fd11e9f0",
      "metadata": {
        "id": "fd11e9f0"
      },
      "source": [
        "\n",
        "## "
      ]
    },
    {
      "cell_type": "code",
      "execution_count": null,
      "id": "003d7fb5",
      "metadata": {
        "id": "003d7fb5",
        "outputId": "cffb6ff5-191c-4534-a841-989628c851a3"
      },
      "outputs": [
        {
          "data": {
            "text/html": [
              "<div>\n",
              "<style scoped>\n",
              "    .dataframe tbody tr th:only-of-type {\n",
              "        vertical-align: middle;\n",
              "    }\n",
              "\n",
              "    .dataframe tbody tr th {\n",
              "        vertical-align: top;\n",
              "    }\n",
              "\n",
              "    .dataframe thead th {\n",
              "        text-align: right;\n",
              "    }\n",
              "</style>\n",
              "<table border=\"1\" class=\"dataframe\">\n",
              "  <thead>\n",
              "    <tr style=\"text-align: right;\">\n",
              "      <th></th>\n",
              "      <th>lead_id</th>\n",
              "      <th>created_At</th>\n",
              "      <th>sub_period</th>\n",
              "      <th>sub_duration</th>\n",
              "      <th>lent_loans</th>\n",
              "      <th>borrowed_loans</th>\n",
              "      <th>lent_amount</th>\n",
              "      <th>borrowed_amount</th>\n",
              "      <th>closed_lent</th>\n",
              "      <th>closed_borrowed</th>\n",
              "      <th>...</th>\n",
              "      <th>recovered_september</th>\n",
              "      <th>recovered_october</th>\n",
              "      <th>recovered_november</th>\n",
              "      <th>transactions_june</th>\n",
              "      <th>transactions_july</th>\n",
              "      <th>transactions_august</th>\n",
              "      <th>transactions_september</th>\n",
              "      <th>transactions_october</th>\n",
              "      <th>transactions_november</th>\n",
              "      <th>net</th>\n",
              "    </tr>\n",
              "  </thead>\n",
              "  <tbody>\n",
              "    <tr>\n",
              "      <th>1</th>\n",
              "      <td>173382</td>\n",
              "      <td>13-07-2021 04:26</td>\n",
              "      <td>13</td>\n",
              "      <td>13</td>\n",
              "      <td>11</td>\n",
              "      <td>4</td>\n",
              "      <td>191956</td>\n",
              "      <td>21555</td>\n",
              "      <td>0</td>\n",
              "      <td>0</td>\n",
              "      <td>...</td>\n",
              "      <td>0.0</td>\n",
              "      <td>0.0</td>\n",
              "      <td>0.00</td>\n",
              "      <td>0</td>\n",
              "      <td>0</td>\n",
              "      <td>0</td>\n",
              "      <td>0</td>\n",
              "      <td>0</td>\n",
              "      <td>0</td>\n",
              "      <td>170401</td>\n",
              "    </tr>\n",
              "    <tr>\n",
              "      <th>2</th>\n",
              "      <td>95170</td>\n",
              "      <td>14-03-2022 18:37</td>\n",
              "      <td>13</td>\n",
              "      <td>13</td>\n",
              "      <td>15</td>\n",
              "      <td>1</td>\n",
              "      <td>582000</td>\n",
              "      <td>10000</td>\n",
              "      <td>10</td>\n",
              "      <td>1</td>\n",
              "      <td>...</td>\n",
              "      <td>0.0</td>\n",
              "      <td>0.0</td>\n",
              "      <td>509249.07</td>\n",
              "      <td>2</td>\n",
              "      <td>0</td>\n",
              "      <td>1</td>\n",
              "      <td>0</td>\n",
              "      <td>0</td>\n",
              "      <td>8</td>\n",
              "      <td>572000</td>\n",
              "    </tr>\n",
              "    <tr>\n",
              "      <th>3</th>\n",
              "      <td>84</td>\n",
              "      <td>25-06-2021 12:25</td>\n",
              "      <td>731</td>\n",
              "      <td>167</td>\n",
              "      <td>33</td>\n",
              "      <td>2</td>\n",
              "      <td>396594</td>\n",
              "      <td>110000</td>\n",
              "      <td>5</td>\n",
              "      <td>0</td>\n",
              "      <td>...</td>\n",
              "      <td>0.0</td>\n",
              "      <td>0.0</td>\n",
              "      <td>0.00</td>\n",
              "      <td>0</td>\n",
              "      <td>1</td>\n",
              "      <td>0</td>\n",
              "      <td>0</td>\n",
              "      <td>0</td>\n",
              "      <td>0</td>\n",
              "      <td>286594</td>\n",
              "    </tr>\n",
              "    <tr>\n",
              "      <th>4</th>\n",
              "      <td>67225</td>\n",
              "      <td>22-01-2022 13:06</td>\n",
              "      <td>31</td>\n",
              "      <td>31</td>\n",
              "      <td>109</td>\n",
              "      <td>1</td>\n",
              "      <td>1842850</td>\n",
              "      <td>10000</td>\n",
              "      <td>35</td>\n",
              "      <td>0</td>\n",
              "      <td>...</td>\n",
              "      <td>64450.0</td>\n",
              "      <td>127033.4</td>\n",
              "      <td>170199.38</td>\n",
              "      <td>1</td>\n",
              "      <td>26</td>\n",
              "      <td>74</td>\n",
              "      <td>78</td>\n",
              "      <td>76</td>\n",
              "      <td>85</td>\n",
              "      <td>1832850</td>\n",
              "    </tr>\n",
              "    <tr>\n",
              "      <th>5</th>\n",
              "      <td>116495</td>\n",
              "      <td>23-04-2022 05:16</td>\n",
              "      <td>31</td>\n",
              "      <td>31</td>\n",
              "      <td>18</td>\n",
              "      <td>3</td>\n",
              "      <td>237401</td>\n",
              "      <td>81100</td>\n",
              "      <td>4</td>\n",
              "      <td>1</td>\n",
              "      <td>...</td>\n",
              "      <td>0.0</td>\n",
              "      <td>0.0</td>\n",
              "      <td>0.00</td>\n",
              "      <td>0</td>\n",
              "      <td>0</td>\n",
              "      <td>0</td>\n",
              "      <td>0</td>\n",
              "      <td>0</td>\n",
              "      <td>0</td>\n",
              "      <td>156301</td>\n",
              "    </tr>\n",
              "  </tbody>\n",
              "</table>\n",
              "<p>5 rows × 72 columns</p>\n",
              "</div>"
            ],
            "text/plain": [
              "   lead_id        created_At  sub_period  sub_duration  lent_loans  \\\n",
              "1   173382  13-07-2021 04:26          13            13          11   \n",
              "2    95170  14-03-2022 18:37          13            13          15   \n",
              "3       84  25-06-2021 12:25         731           167          33   \n",
              "4    67225  22-01-2022 13:06          31            31         109   \n",
              "5   116495  23-04-2022 05:16          31            31          18   \n",
              "\n",
              "   borrowed_loans  lent_amount  borrowed_amount  closed_lent  closed_borrowed  \\\n",
              "1               4       191956            21555            0                0   \n",
              "2               1       582000            10000           10                1   \n",
              "3               2       396594           110000            5                0   \n",
              "4               1      1842850            10000           35                0   \n",
              "5               3       237401            81100            4                1   \n",
              "\n",
              "   ...  recovered_september  recovered_october  recovered_november  \\\n",
              "1  ...                  0.0                0.0                0.00   \n",
              "2  ...                  0.0                0.0           509249.07   \n",
              "3  ...                  0.0                0.0                0.00   \n",
              "4  ...              64450.0           127033.4           170199.38   \n",
              "5  ...                  0.0                0.0                0.00   \n",
              "\n",
              "   transactions_june  transactions_july  transactions_august  \\\n",
              "1                  0                  0                    0   \n",
              "2                  2                  0                    1   \n",
              "3                  0                  1                    0   \n",
              "4                  1                 26                   74   \n",
              "5                  0                  0                    0   \n",
              "\n",
              "   transactions_september  transactions_october  transactions_november  \\\n",
              "1                       0                     0                      0   \n",
              "2                       0                     0                      8   \n",
              "3                       0                     0                      0   \n",
              "4                      78                    76                     85   \n",
              "5                       0                     0                      0   \n",
              "\n",
              "       net  \n",
              "1   170401  \n",
              "2   572000  \n",
              "3   286594  \n",
              "4  1832850  \n",
              "5   156301  \n",
              "\n",
              "[5 rows x 72 columns]"
            ]
          },
          "execution_count": 25,
          "metadata": {},
          "output_type": "execute_result"
        }
      ],
      "source": [
        "df2.head()"
      ]
    },
    {
      "cell_type": "code",
      "execution_count": null,
      "id": "84626099",
      "metadata": {
        "scrolled": true,
        "id": "84626099",
        "outputId": "394b89d5-ecda-477f-ddd9-74b753665b69"
      },
      "outputs": [
        {
          "data": {
            "text/html": [
              "<div>\n",
              "<style scoped>\n",
              "    .dataframe tbody tr th:only-of-type {\n",
              "        vertical-align: middle;\n",
              "    }\n",
              "\n",
              "    .dataframe tbody tr th {\n",
              "        vertical-align: top;\n",
              "    }\n",
              "\n",
              "    .dataframe thead th {\n",
              "        text-align: right;\n",
              "    }\n",
              "</style>\n",
              "<table border=\"1\" class=\"dataframe\">\n",
              "  <thead>\n",
              "    <tr style=\"text-align: right;\">\n",
              "      <th></th>\n",
              "      <th>lead_id</th>\n",
              "      <th>created_At</th>\n",
              "      <th>sub_period</th>\n",
              "      <th>sub_duration</th>\n",
              "      <th>lent_loans</th>\n",
              "      <th>borrowed_loans</th>\n",
              "      <th>lent_amount</th>\n",
              "      <th>borrowed_amount</th>\n",
              "      <th>closed_lent</th>\n",
              "      <th>closed_borrowed</th>\n",
              "      <th>...</th>\n",
              "      <th>recovered_september</th>\n",
              "      <th>recovered_october</th>\n",
              "      <th>recovered_november</th>\n",
              "      <th>transactions_june</th>\n",
              "      <th>transactions_july</th>\n",
              "      <th>transactions_august</th>\n",
              "      <th>transactions_september</th>\n",
              "      <th>transactions_october</th>\n",
              "      <th>transactions_november</th>\n",
              "      <th>net</th>\n",
              "    </tr>\n",
              "  </thead>\n",
              "  <tbody>\n",
              "    <tr>\n",
              "      <th>10</th>\n",
              "      <td>136770</td>\n",
              "      <td>27-05-2022 06:28</td>\n",
              "      <td>396</td>\n",
              "      <td>125</td>\n",
              "      <td>5</td>\n",
              "      <td>20</td>\n",
              "      <td>520000</td>\n",
              "      <td>8153800</td>\n",
              "      <td>1</td>\n",
              "      <td>0</td>\n",
              "      <td>...</td>\n",
              "      <td>0.00</td>\n",
              "      <td>208000.0</td>\n",
              "      <td>0.0</td>\n",
              "      <td>0</td>\n",
              "      <td>5</td>\n",
              "      <td>10</td>\n",
              "      <td>13</td>\n",
              "      <td>13</td>\n",
              "      <td>12</td>\n",
              "      <td>-7633800</td>\n",
              "    </tr>\n",
              "    <tr>\n",
              "      <th>19</th>\n",
              "      <td>10157</td>\n",
              "      <td>28-08-2021 07:18</td>\n",
              "      <td>11</td>\n",
              "      <td>11</td>\n",
              "      <td>40</td>\n",
              "      <td>3</td>\n",
              "      <td>715010</td>\n",
              "      <td>1159495</td>\n",
              "      <td>2</td>\n",
              "      <td>0</td>\n",
              "      <td>...</td>\n",
              "      <td>0.00</td>\n",
              "      <td>0.0</td>\n",
              "      <td>0.0</td>\n",
              "      <td>0</td>\n",
              "      <td>2</td>\n",
              "      <td>3</td>\n",
              "      <td>0</td>\n",
              "      <td>0</td>\n",
              "      <td>0</td>\n",
              "      <td>-444485</td>\n",
              "    </tr>\n",
              "    <tr>\n",
              "      <th>20</th>\n",
              "      <td>158530</td>\n",
              "      <td>27-06-2022 14:54</td>\n",
              "      <td>11</td>\n",
              "      <td>11</td>\n",
              "      <td>0</td>\n",
              "      <td>2</td>\n",
              "      <td>0</td>\n",
              "      <td>10000</td>\n",
              "      <td>0</td>\n",
              "      <td>0</td>\n",
              "      <td>...</td>\n",
              "      <td>0.00</td>\n",
              "      <td>0.0</td>\n",
              "      <td>0.0</td>\n",
              "      <td>0</td>\n",
              "      <td>0</td>\n",
              "      <td>0</td>\n",
              "      <td>0</td>\n",
              "      <td>0</td>\n",
              "      <td>0</td>\n",
              "      <td>-10000</td>\n",
              "    </tr>\n",
              "    <tr>\n",
              "      <th>23</th>\n",
              "      <td>126175</td>\n",
              "      <td>08-05-2022 11:17</td>\n",
              "      <td>7</td>\n",
              "      <td>7</td>\n",
              "      <td>11</td>\n",
              "      <td>3</td>\n",
              "      <td>1672594</td>\n",
              "      <td>2500000</td>\n",
              "      <td>6</td>\n",
              "      <td>3</td>\n",
              "      <td>...</td>\n",
              "      <td>151900.33</td>\n",
              "      <td>0.0</td>\n",
              "      <td>122867.0</td>\n",
              "      <td>0</td>\n",
              "      <td>0</td>\n",
              "      <td>4</td>\n",
              "      <td>4</td>\n",
              "      <td>0</td>\n",
              "      <td>1</td>\n",
              "      <td>-827406</td>\n",
              "    </tr>\n",
              "    <tr>\n",
              "      <th>29</th>\n",
              "      <td>158502</td>\n",
              "      <td>27-06-2022 14:12</td>\n",
              "      <td>7</td>\n",
              "      <td>7</td>\n",
              "      <td>3</td>\n",
              "      <td>8</td>\n",
              "      <td>140000</td>\n",
              "      <td>151000</td>\n",
              "      <td>0</td>\n",
              "      <td>0</td>\n",
              "      <td>...</td>\n",
              "      <td>0.00</td>\n",
              "      <td>0.0</td>\n",
              "      <td>0.0</td>\n",
              "      <td>0</td>\n",
              "      <td>0</td>\n",
              "      <td>0</td>\n",
              "      <td>0</td>\n",
              "      <td>0</td>\n",
              "      <td>0</td>\n",
              "      <td>-11000</td>\n",
              "    </tr>\n",
              "    <tr>\n",
              "      <th>...</th>\n",
              "      <td>...</td>\n",
              "      <td>...</td>\n",
              "      <td>...</td>\n",
              "      <td>...</td>\n",
              "      <td>...</td>\n",
              "      <td>...</td>\n",
              "      <td>...</td>\n",
              "      <td>...</td>\n",
              "      <td>...</td>\n",
              "      <td>...</td>\n",
              "      <td>...</td>\n",
              "      <td>...</td>\n",
              "      <td>...</td>\n",
              "      <td>...</td>\n",
              "      <td>...</td>\n",
              "      <td>...</td>\n",
              "      <td>...</td>\n",
              "      <td>...</td>\n",
              "      <td>...</td>\n",
              "      <td>...</td>\n",
              "      <td>...</td>\n",
              "    </tr>\n",
              "    <tr>\n",
              "      <th>2990</th>\n",
              "      <td>123684531</td>\n",
              "      <td>14-12-2022 09:20</td>\n",
              "      <td>7</td>\n",
              "      <td>2</td>\n",
              "      <td>0</td>\n",
              "      <td>1</td>\n",
              "      <td>0</td>\n",
              "      <td>1000</td>\n",
              "      <td>0</td>\n",
              "      <td>0</td>\n",
              "      <td>...</td>\n",
              "      <td>0.00</td>\n",
              "      <td>0.0</td>\n",
              "      <td>0.0</td>\n",
              "      <td>0</td>\n",
              "      <td>0</td>\n",
              "      <td>0</td>\n",
              "      <td>0</td>\n",
              "      <td>0</td>\n",
              "      <td>0</td>\n",
              "      <td>-1000</td>\n",
              "    </tr>\n",
              "    <tr>\n",
              "      <th>2992</th>\n",
              "      <td>123632717</td>\n",
              "      <td>16-11-2022 18:52</td>\n",
              "      <td>7</td>\n",
              "      <td>2</td>\n",
              "      <td>4</td>\n",
              "      <td>4</td>\n",
              "      <td>40010010</td>\n",
              "      <td>50050501</td>\n",
              "      <td>0</td>\n",
              "      <td>2</td>\n",
              "      <td>...</td>\n",
              "      <td>0.00</td>\n",
              "      <td>0.0</td>\n",
              "      <td>0.0</td>\n",
              "      <td>0</td>\n",
              "      <td>0</td>\n",
              "      <td>0</td>\n",
              "      <td>0</td>\n",
              "      <td>0</td>\n",
              "      <td>0</td>\n",
              "      <td>-10040491</td>\n",
              "    </tr>\n",
              "    <tr>\n",
              "      <th>2994</th>\n",
              "      <td>123685375</td>\n",
              "      <td>14-12-2022 16:22</td>\n",
              "      <td>7</td>\n",
              "      <td>2</td>\n",
              "      <td>0</td>\n",
              "      <td>1</td>\n",
              "      <td>0</td>\n",
              "      <td>10000</td>\n",
              "      <td>0</td>\n",
              "      <td>1</td>\n",
              "      <td>...</td>\n",
              "      <td>0.00</td>\n",
              "      <td>0.0</td>\n",
              "      <td>0.0</td>\n",
              "      <td>0</td>\n",
              "      <td>0</td>\n",
              "      <td>0</td>\n",
              "      <td>0</td>\n",
              "      <td>0</td>\n",
              "      <td>0</td>\n",
              "      <td>-10000</td>\n",
              "    </tr>\n",
              "    <tr>\n",
              "      <th>3001</th>\n",
              "      <td>123686183</td>\n",
              "      <td>15-12-2022 05:54</td>\n",
              "      <td>7</td>\n",
              "      <td>1</td>\n",
              "      <td>0</td>\n",
              "      <td>1</td>\n",
              "      <td>0</td>\n",
              "      <td>1500</td>\n",
              "      <td>0</td>\n",
              "      <td>0</td>\n",
              "      <td>...</td>\n",
              "      <td>0.00</td>\n",
              "      <td>0.0</td>\n",
              "      <td>0.0</td>\n",
              "      <td>0</td>\n",
              "      <td>0</td>\n",
              "      <td>0</td>\n",
              "      <td>0</td>\n",
              "      <td>0</td>\n",
              "      <td>0</td>\n",
              "      <td>-1500</td>\n",
              "    </tr>\n",
              "    <tr>\n",
              "      <th>3015</th>\n",
              "      <td>123687730</td>\n",
              "      <td>16-12-2022 01:59</td>\n",
              "      <td>0</td>\n",
              "      <td>0</td>\n",
              "      <td>1</td>\n",
              "      <td>6</td>\n",
              "      <td>15000</td>\n",
              "      <td>146100</td>\n",
              "      <td>1</td>\n",
              "      <td>1</td>\n",
              "      <td>...</td>\n",
              "      <td>0.00</td>\n",
              "      <td>0.0</td>\n",
              "      <td>0.0</td>\n",
              "      <td>0</td>\n",
              "      <td>0</td>\n",
              "      <td>0</td>\n",
              "      <td>0</td>\n",
              "      <td>0</td>\n",
              "      <td>0</td>\n",
              "      <td>-131100</td>\n",
              "    </tr>\n",
              "  </tbody>\n",
              "</table>\n",
              "<p>762 rows × 72 columns</p>\n",
              "</div>"
            ],
            "text/plain": [
              "        lead_id        created_At  sub_period  sub_duration  lent_loans  \\\n",
              "10       136770  27-05-2022 06:28         396           125           5   \n",
              "19        10157  28-08-2021 07:18          11            11          40   \n",
              "20       158530  27-06-2022 14:54          11            11           0   \n",
              "23       126175  08-05-2022 11:17           7             7          11   \n",
              "29       158502  27-06-2022 14:12           7             7           3   \n",
              "...         ...               ...         ...           ...         ...   \n",
              "2990  123684531  14-12-2022 09:20           7             2           0   \n",
              "2992  123632717  16-11-2022 18:52           7             2           4   \n",
              "2994  123685375  14-12-2022 16:22           7             2           0   \n",
              "3001  123686183  15-12-2022 05:54           7             1           0   \n",
              "3015  123687730  16-12-2022 01:59           0             0           1   \n",
              "\n",
              "      borrowed_loans  lent_amount  borrowed_amount  closed_lent  \\\n",
              "10                20       520000          8153800            1   \n",
              "19                 3       715010          1159495            2   \n",
              "20                 2            0            10000            0   \n",
              "23                 3      1672594          2500000            6   \n",
              "29                 8       140000           151000            0   \n",
              "...              ...          ...              ...          ...   \n",
              "2990               1            0             1000            0   \n",
              "2992               4     40010010         50050501            0   \n",
              "2994               1            0            10000            0   \n",
              "3001               1            0             1500            0   \n",
              "3015               6        15000           146100            1   \n",
              "\n",
              "      closed_borrowed  ...  recovered_september  recovered_october  \\\n",
              "10                  0  ...                 0.00           208000.0   \n",
              "19                  0  ...                 0.00                0.0   \n",
              "20                  0  ...                 0.00                0.0   \n",
              "23                  3  ...            151900.33                0.0   \n",
              "29                  0  ...                 0.00                0.0   \n",
              "...               ...  ...                  ...                ...   \n",
              "2990                0  ...                 0.00                0.0   \n",
              "2992                2  ...                 0.00                0.0   \n",
              "2994                1  ...                 0.00                0.0   \n",
              "3001                0  ...                 0.00                0.0   \n",
              "3015                1  ...                 0.00                0.0   \n",
              "\n",
              "      recovered_november  transactions_june  transactions_july  \\\n",
              "10                   0.0                  0                  5   \n",
              "19                   0.0                  0                  2   \n",
              "20                   0.0                  0                  0   \n",
              "23              122867.0                  0                  0   \n",
              "29                   0.0                  0                  0   \n",
              "...                  ...                ...                ...   \n",
              "2990                 0.0                  0                  0   \n",
              "2992                 0.0                  0                  0   \n",
              "2994                 0.0                  0                  0   \n",
              "3001                 0.0                  0                  0   \n",
              "3015                 0.0                  0                  0   \n",
              "\n",
              "      transactions_august  transactions_september  transactions_october  \\\n",
              "10                     10                      13                    13   \n",
              "19                      3                       0                     0   \n",
              "20                      0                       0                     0   \n",
              "23                      4                       4                     0   \n",
              "29                      0                       0                     0   \n",
              "...                   ...                     ...                   ...   \n",
              "2990                    0                       0                     0   \n",
              "2992                    0                       0                     0   \n",
              "2994                    0                       0                     0   \n",
              "3001                    0                       0                     0   \n",
              "3015                    0                       0                     0   \n",
              "\n",
              "      transactions_november       net  \n",
              "10                       12  -7633800  \n",
              "19                        0   -444485  \n",
              "20                        0    -10000  \n",
              "23                        1   -827406  \n",
              "29                        0    -11000  \n",
              "...                     ...       ...  \n",
              "2990                      0     -1000  \n",
              "2992                      0 -10040491  \n",
              "2994                      0    -10000  \n",
              "3001                      0     -1500  \n",
              "3015                      0   -131100  \n",
              "\n",
              "[762 rows x 72 columns]"
            ]
          },
          "execution_count": 26,
          "metadata": {},
          "output_type": "execute_result"
        }
      ],
      "source": [
        "df2 = df2.loc[(df2['net'] < 0)]\n",
        "\n",
        "df3 = df.copy(deep = True)\n",
        "df3 = df3.loc[(df3['net'] >= 0 )]\n",
        "df2\n"
      ]
    },
    {
      "cell_type": "code",
      "execution_count": null,
      "id": "57cc3049",
      "metadata": {
        "id": "57cc3049"
      },
      "outputs": [],
      "source": [
        "#df2 is the net borrowed dataframe \n",
        "#df3 is the net lent dataframe \n",
        "df3 = df3.drop('Unnamed: 0', axis = 1)"
      ]
    },
    {
      "cell_type": "code",
      "execution_count": null,
      "id": "e0d811ac",
      "metadata": {
        "id": "e0d811ac"
      },
      "outputs": [],
      "source": [
        "df2.to_csv('C:/Users/gaura/Downloads/data2newborrowed.csv')\n",
        "df3.to_csv('C:/Users/gaura/Downloads/data2newlent.csv')"
      ]
    },
    {
      "cell_type": "code",
      "execution_count": null,
      "id": "b9a7de36",
      "metadata": {
        "id": "b9a7de36",
        "outputId": "19750e97-e98e-4fae-c7cf-98a4542c43fa"
      },
      "outputs": [
        {
          "data": {
            "text/plain": [
              "0"
            ]
          },
          "execution_count": 29,
          "metadata": {},
          "output_type": "execute_result"
        }
      ],
      "source": [
        "count = (df2['borrowed_amount'] == 0).sum()\n",
        "count\n"
      ]
    },
    {
      "cell_type": "code",
      "execution_count": null,
      "id": "027716a4",
      "metadata": {
        "scrolled": true,
        "id": "027716a4",
        "outputId": "6023a355-0cdf-4c9a-e719-83dd2f0599fa"
      },
      "outputs": [
        {
          "data": {
            "text/plain": [
              "0"
            ]
          },
          "execution_count": 30,
          "metadata": {},
          "output_type": "execute_result"
        }
      ],
      "source": [
        "count2 =(df3['lent_amount'] == 0).sum()\n",
        "count2"
      ]
    },
    {
      "cell_type": "markdown",
      "id": "b930cf14",
      "metadata": {
        "id": "b930cf14"
      },
      "source": [
        "# \n",
        "Begin creating rll, rlb, rbl and rbb columns for df3 and df2 respectively \n"
      ]
    },
    {
      "cell_type": "code",
      "execution_count": null,
      "id": "0ab14b7d",
      "metadata": {
        "id": "0ab14b7d",
        "outputId": "94d02215-6068-466f-d90e-6457d7ecf57a"
      },
      "outputs": [
        {
          "data": {
            "text/plain": [
              "(array([1781.,   92.,   60.,   41.,   45.,   44.,   23.,   21.,   28.,\n",
              "         123.]),\n",
              " array([0. , 0.1, 0.2, 0.3, 0.4, 0.5, 0.6, 0.7, 0.8, 0.9, 1. ]),\n",
              " <BarContainer object of 10 artists>)"
            ]
          },
          "execution_count": 31,
          "metadata": {},
          "output_type": "execute_result"
        },
        {
          "data": {
            "image/png": "[encoded data removed]",
            "text/plain": [
              "<Figure size 432x288 with 1 Axes>"
            ]
          },
          "metadata": {
            "needs_background": "light"
          },
          "output_type": "display_data"
        }
      ],
      "source": [
        "df3['rlb'] = df3['borrowed_amount']/df3['lent_amount']\n",
        "df3['rlb']\n",
        "plt.hist(df3['rlb'])\n"
      ]
    },
    {
      "cell_type": "code",
      "execution_count": null,
      "id": "5c1ed64c",
      "metadata": {
        "id": "5c1ed64c"
      },
      "outputs": [],
      "source": [
        "# listb = []\n",
        "# for i in range(len(df.index)):\n",
        "#     if (df['borrowed_amount'][i]==0 & df['lent_amount'][i]==0):\n",
        "#         listb.append(i)\n",
        "\n",
        "# listb\n",
        "       "
      ]
    },
    {
      "cell_type": "code",
      "execution_count": null,
      "id": "03ec797b",
      "metadata": {
        "id": "03ec797b",
        "outputId": "84d69a91-565f-4335-d033-6d87dc84eb06"
      },
      "outputs": [
        {
          "data": {
            "text/plain": [
              "(array([ 123.,   28.,   21.,   23.,   27.,   62.,   41.,   54.,   92.,\n",
              "        1787.]),\n",
              " array([0. , 0.1, 0.2, 0.3, 0.4, 0.5, 0.6, 0.7, 0.8, 0.9, 1. ]),\n",
              " <BarContainer object of 10 artists>)"
            ]
          },
          "execution_count": 33,
          "metadata": {},
          "output_type": "execute_result"
        },
        {
          "data": {
            "image/png": "[encoded data removed]",
            "text/plain": [
              "<Figure size 432x288 with 1 Axes>"
            ]
          },
          "metadata": {
            "needs_background": "light"
          },
          "output_type": "display_data"
        }
      ],
      "source": [
        "df3['ones'] = 1\n",
        "df3['rll'] = df3['ones'] - df3['rlb']\n",
        "plt.hist(df3['rll'])"
      ]
    },
    {
      "cell_type": "code",
      "execution_count": null,
      "id": "b53a181f",
      "metadata": {
        "scrolled": true,
        "id": "b53a181f",
        "outputId": "8c1a4fdc-b8a9-42fa-9197-e7d9395ce562"
      },
      "outputs": [
        {
          "data": {
            "text/plain": [
              "(array([518.,  38.,  22.,  34.,  22.,  33.,  27.,  17.,  29.,  22.]),\n",
              " array([0.        , 0.09992006, 0.19984013, 0.29976019, 0.39968026,\n",
              "        0.49960032, 0.59952038, 0.69944045, 0.79936051, 0.89928058,\n",
              "        0.99920064]),\n",
              " <BarContainer object of 10 artists>)"
            ]
          },
          "execution_count": 34,
          "metadata": {},
          "output_type": "execute_result"
        },
        {
          "data": {
            "image/png": "[encoded data removed]",
            "text/plain": [
              "<Figure size 432x288 with 1 Axes>"
            ]
          },
          "metadata": {
            "needs_background": "light"
          },
          "output_type": "display_data"
        }
      ],
      "source": [
        "df2['rbl'] = df2['lent_amount']/df2['borrowed_amount']\n",
        "df2['rbl']\n",
        "plt.hist(df2['rbl'])"
      ]
    },
    {
      "cell_type": "code",
      "execution_count": null,
      "id": "b7aea4c3",
      "metadata": {
        "id": "b7aea4c3",
        "outputId": "ee44be34-5e3f-4a51-8703-3e849a02b37b"
      },
      "outputs": [
        {
          "data": {
            "text/plain": [
              "(array([ 22.,  29.,  17.,  27.,  33.,  22.,  34.,  22.,  38., 518.]),\n",
              " array([7.99360512e-04, 1.00719424e-01, 2.00639488e-01, 3.00559552e-01,\n",
              "        4.00479616e-01, 5.00399680e-01, 6.00319744e-01, 7.00239808e-01,\n",
              "        8.00159872e-01, 9.00079936e-01, 1.00000000e+00]),\n",
              " <BarContainer object of 10 artists>)"
            ]
          },
          "execution_count": 35,
          "metadata": {},
          "output_type": "execute_result"
        },
        {
          "data": {
            "image/png": "[encoded data removed]",
            "text/plain": [
              "<Figure size 432x288 with 1 Axes>"
            ]
          },
          "metadata": {
            "needs_background": "light"
          },
          "output_type": "display_data"
        }
      ],
      "source": [
        "df2['ones'] = 1 \n",
        "df2['rbb'] = df2['ones'] - df2['rbl']\n",
        "plt.hist(df2['rbb'])"
      ]
    },
    {
      "cell_type": "code",
      "execution_count": null,
      "id": "d67ac754",
      "metadata": {
        "id": "d67ac754",
        "outputId": "d17909db-e2dd-45df-8e18-1028045823a1"
      },
      "outputs": [
        {
          "data": {
            "text/plain": [
              "0"
            ]
          },
          "execution_count": 36,
          "metadata": {},
          "output_type": "execute_result"
        }
      ],
      "source": [
        "df3['rlb'].isna().sum()"
      ]
    },
    {
      "cell_type": "code",
      "execution_count": null,
      "id": "6bf4f444",
      "metadata": {
        "id": "6bf4f444",
        "outputId": "78fdfef1-3d1b-4fe3-9bb8-a0143899c3de"
      },
      "outputs": [
        {
          "data": {
            "text/plain": [
              "Int64Index([], dtype='int64')"
            ]
          },
          "execution_count": 37,
          "metadata": {},
          "output_type": "execute_result"
        }
      ],
      "source": [
        "count3 =df3.index[(df3['avg_lent_duration'] == 0)]\n",
        "count3"
      ]
    },
    {
      "cell_type": "code",
      "execution_count": null,
      "id": "ab4255b6",
      "metadata": {
        "scrolled": true,
        "id": "ab4255b6"
      },
      "outputs": [],
      "source": []
    },
    {
      "cell_type": "code",
      "execution_count": null,
      "id": "350f50a8",
      "metadata": {
        "id": "350f50a8",
        "outputId": "3cdca4b6-ec18-4e23-a775-3cad3c1143d0"
      },
      "outputs": [
        {
          "data": {
            "text/plain": [
              "Int64Index([  22,   31,   48,   77,   88,   90,   92,   95,  114,  139,\n",
              "            ...\n",
              "            2931, 2955, 2956, 2969, 2983, 2993, 2997, 3013, 3016, 3018],\n",
              "           dtype='int64', length=323)"
            ]
          },
          "execution_count": 38,
          "metadata": {},
          "output_type": "execute_result"
        }
      ],
      "source": [
        "count4 =df3.index[(df3['avg_lent_duration_closed'] == 0)]\n",
        "count4"
      ]
    },
    {
      "cell_type": "markdown",
      "id": "19c8ef23",
      "metadata": {
        "id": "19c8ef23"
      },
      "source": [
        "Ref cell 161 --> the ones whoe avg_lent)duration is 0 despite having non zero lent loans"
      ]
    },
    {
      "cell_type": "code",
      "execution_count": null,
      "id": "5f005a5e",
      "metadata": {
        "id": "5f005a5e",
        "outputId": "440437be-ad3b-4685-c807-6355f5d9ed3e"
      },
      "outputs": [
        {
          "data": {
            "text/plain": [
              "Int64Index([], dtype='int64')"
            ]
          },
          "execution_count": 39,
          "metadata": {},
          "output_type": "execute_result"
        }
      ],
      "source": [
        "count5 =df2.index[(df2['avg_borrowed_duration'] == 0)  ]\n",
        "count5"
      ]
    },
    {
      "cell_type": "code",
      "execution_count": null,
      "id": "6fb1b0fd",
      "metadata": {
        "id": "6fb1b0fd"
      },
      "outputs": [],
      "source": [
        "# df31 = df3.copy(deep = False \n",
        "#                )\n",
        "# df31 = df31.loc[(df31['avg_lent_duration']!= 0)]\n",
        "# df31"
      ]
    },
    {
      "cell_type": "markdown",
      "id": "c87027a1",
      "metadata": {
        "id": "c87027a1"
      },
      "source": [
        "#\n",
        "df31 is the net LENDERS table without the entries with 0 avg duraion of lent loans\n",
        " LATER, We will impute values instead of just removing "
      ]
    },
    {
      "cell_type": "code",
      "execution_count": null,
      "id": "72fb24df",
      "metadata": {
        "id": "72fb24df"
      },
      "outputs": [],
      "source": [
        "# final = 0\n",
        "# for i in range(len(df3)):\n",
        "#     j= 0\n",
        "#     k = 0 \n",
        "#     l = 0 \n",
        "#     m = 0 \n",
        "#     n = 0\n",
        "#     o = 0\n",
        "#     count = 0\n",
        "#     if ((df3['recovered_june'][i]==0) & (df3['recovered_july'][i]==0) & (df3['recovered_august'][i]==0) & (df3['recovered_september'][i]==0) & (df3['recovered_october'][i]==0)):\n",
        "#         j = 1\n",
        "#     if (df3['recovered_july'][i]==0):\n",
        "#         k = 1   \n",
        "#     if (df3['recovered_august'][i]==0):\n",
        "#         l = 1\n",
        "#     if (df3['recovered_september'][i]==0):\n",
        "#         m = 1\n",
        "#     if (df3['recovered_october'][i]==0):\n",
        "#         n = 1\n",
        "#     if (df3['recovered_november'][i]==0):\n",
        "#         o = 1\n",
        "        \n",
        "#     count = j + k + l + m+ n\n",
        "#     if (count >4):\n",
        "#         final = final + 1"
      ]
    },
    {
      "cell_type": "markdown",
      "id": "101a7d61",
      "metadata": {
        "id": "101a7d61"
      },
      "source": []
    },
    {
      "cell_type": "code",
      "execution_count": null,
      "id": "bc56e87c",
      "metadata": {
        "id": "bc56e87c"
      },
      "outputs": [],
      "source": [
        "from sklearn.impute import SimpleImputer\n",
        "from sklearn.experimental import enable_iterative_imputer\n",
        "from sklearn.impute import IterativeImputer,KNNImputer\n",
        "from sklearn.pipeline import FeatureUnion,make_pipeline,Pipeline\n",
        "from sklearn.compose import ColumnTransformer\n",
        "import numpy as np"
      ]
    },
    {
      "cell_type": "code",
      "execution_count": null,
      "id": "389bbaed",
      "metadata": {
        "id": "389bbaed"
      },
      "outputs": [],
      "source": [
        "df32 = df3.copy(deep = True)"
      ]
    },
    {
      "cell_type": "code",
      "execution_count": null,
      "id": "d21e5c14",
      "metadata": {
        "id": "d21e5c14"
      },
      "outputs": [],
      "source": [
        "# df32['avg_lent_duration'].replace(0, np.nan, inplace=True)"
      ]
    },
    {
      "cell_type": "code",
      "execution_count": null,
      "id": "2c888ead",
      "metadata": {
        "id": "2c888ead"
      },
      "outputs": [],
      "source": [
        "# new_col = ['lent_loans', 'lent_amount', 'avg_lent_duration']\n",
        "# imputer = IterativeImputer(max_iter = 20, random_state = 0)\n",
        "# df32[new_col] = imputer.fit_transform(df32[new_col])\n",
        "# # df32['avg_lent_duration'].isna().sum()\n",
        "# df3['avg_lent_duration'].isna().sum()"
      ]
    },
    {
      "cell_type": "code",
      "execution_count": null,
      "id": "e735fe89",
      "metadata": {
        "id": "e735fe89",
        "outputId": "c2941f06-d84d-4535-e223-056d8a82a1bc"
      },
      "outputs": [
        {
          "data": {
            "text/plain": [
              "Int64Index([], dtype='int64')"
            ]
          },
          "execution_count": 46,
          "metadata": {},
          "output_type": "execute_result"
        }
      ],
      "source": [
        "count6 =df32.index[(df32['avg_lent_duration'] == 0)]\n",
        "count6"
      ]
    },
    {
      "cell_type": "code",
      "execution_count": null,
      "id": "c8543357",
      "metadata": {
        "id": "c8543357",
        "outputId": "318d6bb2-6cdc-4a8d-b589-d9f488678b35"
      },
      "outputs": [
        {
          "data": {
            "text/plain": [
              "Int64Index([   2,   38,   55,  127,  154,  225,  226,  289,  296,  298,\n",
              "            ...\n",
              "            2881, 2902, 2915, 2925, 2934, 2954, 2971, 3007, 3014, 3016],\n",
              "           dtype='int64', length=116)"
            ]
          },
          "execution_count": 47,
          "metadata": {},
          "output_type": "execute_result"
        }
      ],
      "source": [
        "count6 =df32.index[(df32['avg_borrowed_duration_closed'] == 0)]\n",
        "count6"
      ]
    },
    {
      "cell_type": "code",
      "execution_count": null,
      "id": "6798fef4",
      "metadata": {
        "id": "6798fef4"
      },
      "outputs": [],
      "source": [
        "df32['borclotobor'] = df32['avg_borrowed_duration_closed']/df32['avg_borrowed_duration']"
      ]
    },
    {
      "cell_type": "code",
      "execution_count": null,
      "id": "4087876a",
      "metadata": {
        "id": "4087876a"
      },
      "outputs": [],
      "source": [
        "df32['lenttoclosed'] = df32['avg_lent_duration_closed']/df32['avg_lent_duration']"
      ]
    },
    {
      "cell_type": "code",
      "execution_count": null,
      "id": "ab7dbd7a",
      "metadata": {
        "id": "ab7dbd7a"
      },
      "outputs": [],
      "source": [
        "df32['rlb'] = df32['borrowed_amount']/df32['lent_amount']\n",
        "df32['ones'] = 1\n",
        "df32['rll'] = df32['ones'] - df32['rlb']\n"
      ]
    },
    {
      "cell_type": "code",
      "execution_count": null,
      "id": "be2cbdb3",
      "metadata": {
        "id": "be2cbdb3"
      },
      "outputs": [],
      "source": [
        "df32['wtd_borclotobor'] = df32['borclotobor']*df32['rlb']"
      ]
    },
    {
      "cell_type": "code",
      "execution_count": null,
      "id": "5eb75b9d",
      "metadata": {
        "id": "5eb75b9d"
      },
      "outputs": [],
      "source": [
        "df32['wtd_lentclotolent'] = df32['lenttoclosed']*df32['rll']"
      ]
    },
    {
      "cell_type": "markdown",
      "id": "b81721ed",
      "metadata": {
        "id": "b81721ed"
      },
      "source": [
        "#"
      ]
    },
    {
      "cell_type": "code",
      "execution_count": null,
      "id": "3d75a4fa",
      "metadata": {
        "id": "3d75a4fa",
        "outputId": "4bd5a640-2187-4e1c-a645-1d25f7e00785"
      },
      "outputs": [
        {
          "data": {
            "text/plain": [
              "Series([], Name: avg_lent_duration, dtype: float64)"
            ]
          },
          "execution_count": 53,
          "metadata": {},
          "output_type": "execute_result"
        }
      ],
      "source": [
        "df3['avg_lent_duration'].loc[count3]"
      ]
    },
    {
      "cell_type": "code",
      "execution_count": null,
      "id": "5fddc0a4",
      "metadata": {
        "id": "5fddc0a4"
      },
      "outputs": [],
      "source": [
        "df32['avg_lent_duration'].loc[count3]\n",
        "df22 = df2.copy(deep = False\n",
        "               )"
      ]
    },
    {
      "cell_type": "code",
      "execution_count": null,
      "id": "e1d3a9ca",
      "metadata": {
        "id": "e1d3a9ca"
      },
      "outputs": [],
      "source": [
        "df22['clbortobor'] = df22['avg_borrowed_duration_closed']/df22['avg_borrowed_duration']\n",
        "df22['cllenttolent'] = df22['avg_lent_duration_closed']/df22['avg_lent_duration']"
      ]
    },
    {
      "cell_type": "code",
      "execution_count": null,
      "id": "9e898d2a",
      "metadata": {
        "id": "9e898d2a",
        "outputId": "5319846c-85a2-4a8f-e42c-38805b116a76"
      },
      "outputs": [
        {
          "data": {
            "text/plain": [
              "218"
            ]
          },
          "execution_count": 56,
          "metadata": {},
          "output_type": "execute_result"
        }
      ],
      "source": [
        "(df22['clbortobor'] == 0).sum()"
      ]
    },
    {
      "cell_type": "code",
      "execution_count": null,
      "id": "8079942c",
      "metadata": {
        "id": "8079942c"
      },
      "outputs": [],
      "source": [
        "df22['wtd_clbortobor'] = df22['clbortobor']*df22['rbb']"
      ]
    },
    {
      "cell_type": "code",
      "execution_count": null,
      "id": "26b1bcc7",
      "metadata": {
        "id": "26b1bcc7"
      },
      "outputs": [],
      "source": [
        "df22['wtd_cllenttolent'] = df22['cllenttolent']*df22['rbl']"
      ]
    },
    {
      "cell_type": "code",
      "execution_count": null,
      "id": "37cf03bc",
      "metadata": {
        "id": "37cf03bc"
      },
      "outputs": [],
      "source": [
        "df22['metric12final'] = df22['wtd_cllenttolent'] + df22['wtd_clbortobor']\n",
        "df32['metric12final'] = df32['wtd_lentclotolent'] + df32['wtd_borclotobor']"
      ]
    },
    {
      "cell_type": "code",
      "execution_count": null,
      "id": "4ca0f03d",
      "metadata": {
        "id": "4ca0f03d"
      },
      "outputs": [],
      "source": []
    },
    {
      "cell_type": "markdown",
      "id": "a04f03f4",
      "metadata": {
        "id": "a04f03f4"
      },
      "source": [
        "## these are the first part of the first metric, combine them later"
      ]
    },
    {
      "cell_type": "code",
      "execution_count": null,
      "id": "0795c854",
      "metadata": {
        "id": "0795c854",
        "outputId": "1c245983-a487-444e-8cb5-0150effcec5a"
      },
      "outputs": [
        {
          "data": {
            "text/plain": [
              "<AxesSubplot:xlabel='index', ylabel='metric12final'>"
            ]
          },
          "execution_count": 60,
          "metadata": {},
          "output_type": "execute_result"
        },
        {
          "data": {
            "image/png": "[encoded data removed]",
            "text/plain": [
              "<Figure size 432x288 with 1 Axes>"
            ]
          },
          "metadata": {
            "needs_background": "light"
          },
          "output_type": "display_data"
        }
      ],
      "source": [
        "df32.reset_index().plot(kind='scatter', x='index', y='metric12final')"
      ]
    },
    {
      "cell_type": "code",
      "execution_count": null,
      "id": "19648eb0",
      "metadata": {
        "id": "19648eb0",
        "outputId": "2ad7b62e-47bd-4d56-8dd5-1592122128b5"
      },
      "outputs": [
        {
          "data": {
            "text/plain": [
              "Int64Index([   7,   52,  113,  134,  218,  278,  343,  364,  390,  411,\n",
              "            ...\n",
              "            2933, 2952, 2957, 2965, 2966, 2973, 2986, 2991, 3005, 3006],\n",
              "           dtype='int64', length=113)"
            ]
          },
          "execution_count": 61,
          "metadata": {},
          "output_type": "execute_result"
        }
      ],
      "source": [
        "outliers12_32 = df32.index[(df32['metric12final'] > 2)]\n",
        "outliers12_32"
      ]
    },
    {
      "cell_type": "markdown",
      "id": "60beb68c",
      "metadata": {
        "id": "60beb68c"
      },
      "source": [
        "### these outliers were analysed and it was observed that while replacing missing values for these, there had been a problem and extreme values were filled by the KNN Algorithm. Hence, these will all be equaled to zero and then equated to the mean of these numbers. Note that INDEX 390 is genuinely faulty."
      ]
    },
    {
      "cell_type": "code",
      "execution_count": null,
      "id": "4228e046",
      "metadata": {
        "id": "4228e046"
      },
      "outputs": [],
      "source": [
        "df32.loc[outliers12_32, 'metric12final'] = 0"
      ]
    },
    {
      "cell_type": "code",
      "execution_count": null,
      "id": "6ec3bf57",
      "metadata": {
        "id": "6ec3bf57",
        "outputId": "d5bbd9c8-39f8-4ff5-b58f-3f5f4cf0f16c"
      },
      "outputs": [
        {
          "data": {
            "text/plain": [
              "<AxesSubplot:xlabel='index', ylabel='metric12final'>"
            ]
          },
          "execution_count": 65,
          "metadata": {},
          "output_type": "execute_result"
        },
        {
          "data": {
            "image/png": "[encoded data removed]",
            "text/plain": [
              "<Figure size 432x288 with 1 Axes>"
            ]
          },
          "metadata": {
            "needs_background": "light"
          },
          "output_type": "display_data"
        }
      ],
      "source": [
        "df32.reset_index().plot(kind='scatter', x='index', y='metric12final')"
      ]
    },
    {
      "cell_type": "code",
      "execution_count": null,
      "id": "aef6d15f",
      "metadata": {
        "id": "aef6d15f"
      },
      "outputs": [],
      "source": [
        "mean12 = df32['metric12final'].mean()\n",
        "df32.loc[outliers12_32, 'metric12final'] = mean12"
      ]
    },
    {
      "cell_type": "code",
      "execution_count": null,
      "id": "b801fd53",
      "metadata": {
        "scrolled": true,
        "id": "b801fd53",
        "outputId": "662cd860-b52b-425c-cc62-054c21aff46e"
      },
      "outputs": [
        {
          "data": {
            "text/plain": [
              "<AxesSubplot:xlabel='index', ylabel='metric12final'>"
            ]
          },
          "execution_count": 70,
          "metadata": {},
          "output_type": "execute_result"
        },
        {
          "data": {
            "image/png": "[encoded data removed]",
            "text/plain": [
              "<Figure size 432x288 with 1 Axes>"
            ]
          },
          "metadata": {
            "needs_background": "light"
          },
          "output_type": "display_data"
        }
      ],
      "source": [
        "df22.reset_index().plot(kind='scatter', x='index', y='metric12final')"
      ]
    },
    {
      "cell_type": "code",
      "execution_count": null,
      "id": "3f5b798a",
      "metadata": {
        "id": "3f5b798a"
      },
      "outputs": [],
      "source": [
        "outliers12_22 = df22.index[(df22['metric12final'] > 2)]\n",
        "# df22.loc[outliers12_22, 'metric12final' ] = 0"
      ]
    },
    {
      "cell_type": "markdown",
      "id": "bad047c7",
      "metadata": {
        "id": "bad047c7"
      },
      "source": [
        "### the same problem as in the lent dataframe, so the same solution approach"
      ]
    },
    {
      "cell_type": "code",
      "execution_count": null,
      "id": "fa587849",
      "metadata": {
        "id": "fa587849"
      },
      "outputs": [],
      "source": [
        "mean1222 = df22['metric12final'].mean()\n",
        "df22.loc[outliers12_22, 'metric12final'] = mean1222"
      ]
    },
    {
      "cell_type": "code",
      "execution_count": null,
      "id": "aa1f074b",
      "metadata": {
        "id": "aa1f074b"
      },
      "outputs": [],
      "source": []
    },
    {
      "cell_type": "markdown",
      "id": "e3ca7dd4",
      "metadata": {
        "id": "e3ca7dd4"
      },
      "source": []
    },
    {
      "cell_type": "code",
      "execution_count": null,
      "id": "43f6cf85",
      "metadata": {
        "id": "43f6cf85"
      },
      "outputs": [],
      "source": []
    },
    {
      "cell_type": "code",
      "execution_count": null,
      "id": "6c3fd144",
      "metadata": {
        "id": "6c3fd144"
      },
      "outputs": [],
      "source": [
        "lent_list = ['lent_june', 'lent_july','lent_august', 'lent_september', 'lent_october', 'lent_november' ]\n",
        "borrowed_list = ['borrowed_june', 'borrowed_july', 'borrowed_august', 'borrowed_september', 'borrowed_october', 'borrowed_november']\n",
        "recovered_list = ['recovered_june', 'recovered_july', 'recovered_august', 'recovered_september', 'recovered_october', 'recovered_november']\n",
        "repayment_list = ['repayment_june', 'repayment_july', 'repayment_august', 'repayment_september', 'repayment_october', 'repayment_november']"
      ]
    },
    {
      "cell_type": "code",
      "execution_count": null,
      "id": "0efe2a1a",
      "metadata": {
        "id": "0efe2a1a"
      },
      "outputs": [],
      "source": [
        "df32['lent_6'] = 0 \n",
        "for i in lent_list: \n",
        "    df32['lent_6'] = df32[i] + df32['lent_6']\n"
      ]
    },
    {
      "cell_type": "code",
      "execution_count": null,
      "id": "0d6fb955",
      "metadata": {
        "id": "0d6fb955"
      },
      "outputs": [],
      "source": [
        "df32['borrowed_6'] = 0 \n",
        "for i in borrowed_list: \n",
        "    df32['borrowed_6'] = df32[i] + df32['borrowed_6']\n"
      ]
    },
    {
      "cell_type": "code",
      "execution_count": null,
      "id": "1610a9cf",
      "metadata": {
        "id": "1610a9cf"
      },
      "outputs": [],
      "source": [
        "df32['recovered_6'] = 0 \n",
        "for i in recovered_list: \n",
        "    df32['recovered_6'] = df32[i] + df32['recovered_6']\n"
      ]
    },
    {
      "cell_type": "markdown",
      "id": "5d604f64",
      "metadata": {
        "id": "5d604f64"
      },
      "source": []
    },
    {
      "cell_type": "code",
      "execution_count": null,
      "id": "1fba47ea",
      "metadata": {
        "id": "1fba47ea"
      },
      "outputs": [],
      "source": [
        "df32['repayment_6'] = 0 \n",
        "for i in repayment_list: \n",
        "    df32['repayment_6'] = df32[i] + df32['repayment_6']\n"
      ]
    },
    {
      "cell_type": "markdown",
      "id": "77baa62d",
      "metadata": {
        "id": "77baa62d"
      },
      "source": [
        "The above steps were to calculate the recovered, repaid, lent and borrowed sums for the 6 months data. Now we build the 2nd part of metric 1 using lent-recovered and borrowed-repaid (first for lent dataset and then borowed dataset)"
      ]
    },
    {
      "cell_type": "code",
      "execution_count": null,
      "id": "48de109b",
      "metadata": {
        "id": "48de109b"
      },
      "outputs": [],
      "source": [
        "# df32['metric11'] = df32['lent_6'] - df32['recovered_6']\n",
        "# df32['R1'] = df32['metric11']/df32['lent_amount']\n",
        "# df32['metric12'] = df32['borrowed_6'] - df32['repayment_6']\n",
        "# df32['R2'] = df32['metric12']/df32['borrowed_amount']\n",
        "# df32['wtd_R1'] = df32['R1']*df32['rll']\n",
        "# df32['wtd_R2'] = df32['R2']*df32['rlb']"
      ]
    },
    {
      "cell_type": "code",
      "execution_count": null,
      "id": "dea6df97",
      "metadata": {
        "id": "dea6df97"
      },
      "outputs": [],
      "source": [
        "# df32['wtd_R2']"
      ]
    },
    {
      "cell_type": "code",
      "execution_count": null,
      "id": "b7c2ecf4",
      "metadata": {
        "id": "b7c2ecf4"
      },
      "outputs": [],
      "source": [
        "df22['lent_6'] = 0 \n",
        "for i in lent_list: \n",
        "    df22['lent_6'] = df22[i] + df22['lent_6']"
      ]
    },
    {
      "cell_type": "code",
      "execution_count": null,
      "id": "7ad3d046",
      "metadata": {
        "id": "7ad3d046"
      },
      "outputs": [],
      "source": [
        "df22['borrowed_6'] = 0 \n",
        "for i in borrowed_list: \n",
        "    df22['borrowed_6'] = df22[i] + df22['borrowed_6']"
      ]
    },
    {
      "cell_type": "code",
      "execution_count": null,
      "id": "f51a9d75",
      "metadata": {
        "id": "f51a9d75"
      },
      "outputs": [],
      "source": [
        "df22['recovered_6'] = 0 \n",
        "for i in recovered_list: \n",
        "    df22['recovered_6'] = df22[i] + df22['recovered_6']"
      ]
    },
    {
      "cell_type": "code",
      "execution_count": null,
      "id": "9b0e6fea",
      "metadata": {
        "id": "9b0e6fea"
      },
      "outputs": [],
      "source": [
        "# df22['repayment_6'] = 0 \n",
        "# for i in repayment_list: \n",
        "#     df22['repayment_6'] = df22[i] + df22['repayment_6']"
      ]
    },
    {
      "cell_type": "code",
      "execution_count": null,
      "id": "689b8dc6",
      "metadata": {
        "id": "689b8dc6"
      },
      "outputs": [],
      "source": [
        "# df22['metric11'] = df22['lent_6'] - df22['recovered_6']\n",
        "# df22['R1'] = df22['metric11']/df22['lent_amount']\n",
        "# df22['metric12'] = df22['borrowed_6'] - df22['repayment_6']\n",
        "# df22['R2'] = df22['metric12']/df22['borrowed_amount']\n",
        "# df22['wtd_R1'] = df22['R1']*df22['rbl']\n",
        "# df22['wtd_R2'] = df22['R2']*df22['rbb']"
      ]
    },
    {
      "cell_type": "markdown",
      "id": "fcb1022c",
      "metadata": {
        "id": "fcb1022c"
      },
      "source": [
        "### will not be using wtd_r1 etc (check doc for update)"
      ]
    },
    {
      "cell_type": "code",
      "execution_count": null,
      "id": "a134f5b3",
      "metadata": {
        "id": "a134f5b3"
      },
      "outputs": [],
      "source": [
        "df32['R3l'] = df32['closed_lent']/df32['lent_loans']\n",
        "df32['R3b'] = df32['closed_borrowed']/df32['borrowed_loans']\n",
        "df32['R3b'] = df32['R3b'].fillna(0)\n",
        "df32['R3l'] = df32['R3l'].fillna(0)\n",
        "df22['R3l'] = df22['closed_lent']/df22['lent_loans']\n",
        "df22['R3b'] = df22['closed_borrowed']/df22['borrowed_loans']\n",
        "df22['R3b'] = df22['R3b'].fillna(0)\n",
        "df22['R3l'] = df22['R3l'].fillna(0)\n",
        "df32['wtd_R3l'] = df32['R3l']*df32['rll']\n",
        "df32['wtd_R3b'] = df32['R3b']*df32['rlb']\n",
        "df32['metric11final'] = df32['wtd_R3l'] + df32['wtd_R3b']\n",
        "df22['wtd_R3l']= df22['R3l']*df22['rbl']\n",
        "df22['wtd_R3b'] = df22['R3b']*df22['rbb']\n",
        "df22['metric11final'] = df22['wtd_R3b'] + df22['wtd_R3l']\n",
        " "
      ]
    },
    {
      "cell_type": "code",
      "execution_count": null,
      "id": "f81a66f0",
      "metadata": {
        "id": "f81a66f0",
        "outputId": "e8741a7b-1a3b-431c-d71d-8331ffa4d903"
      },
      "outputs": [
        {
          "data": {
            "text/plain": [
              "0"
            ]
          },
          "execution_count": 84,
          "metadata": {},
          "output_type": "execute_result"
        }
      ],
      "source": [
        "df22['R3l'].isna().sum()"
      ]
    },
    {
      "cell_type": "code",
      "execution_count": null,
      "id": "75bb22ac",
      "metadata": {
        "id": "75bb22ac",
        "outputId": "38061026-9cc3-4ddf-abde-c688f2395f9e"
      },
      "outputs": [
        {
          "data": {
            "text/plain": [
              "<AxesSubplot:xlabel='index', ylabel='metric11final'>"
            ]
          },
          "execution_count": 85,
          "metadata": {},
          "output_type": "execute_result"
        },
        {
          "data": {
            "image/png": "[encoded data removed]",
            "text/plain": [
              "<Figure size 432x288 with 1 Axes>"
            ]
          },
          "metadata": {
            "needs_background": "light"
          },
          "output_type": "display_data"
        }
      ],
      "source": [
        "df22.reset_index().plot(kind='scatter', x='index', y='metric11final')"
      ]
    },
    {
      "cell_type": "markdown",
      "id": "07661db2",
      "metadata": {
        "id": "07661db2"
      },
      "source": [
        "### no particular outliers here"
      ]
    },
    {
      "cell_type": "markdown",
      "id": "6a07725f",
      "metadata": {
        "id": "6a07725f"
      },
      "source": [
        "## instead, the above calculated metrics will be used (in the 1:2 weight)"
      ]
    },
    {
      "cell_type": "code",
      "execution_count": null,
      "id": "6e094f1f",
      "metadata": {
        "id": "6e094f1f"
      },
      "outputs": [],
      "source": [
        "df22['metric1'] = 0.667*df22['metric11final'] + 0.333*df22['metric12final']\n",
        "df32['metric1'] = 0.667*df32['metric11final'] + 0.333*df32['metric12final']"
      ]
    },
    {
      "cell_type": "code",
      "execution_count": null,
      "id": "65d2a494",
      "metadata": {
        "id": "65d2a494",
        "outputId": "5496aa1c-f534-4bba-953a-bcb227704d43"
      },
      "outputs": [
        {
          "data": {
            "text/plain": [
              "0"
            ]
          },
          "execution_count": 87,
          "metadata": {},
          "output_type": "execute_result"
        }
      ],
      "source": [
        "df22['metric1'].isna().sum()"
      ]
    },
    {
      "cell_type": "code",
      "execution_count": null,
      "id": "1844bec2",
      "metadata": {
        "id": "1844bec2"
      },
      "outputs": [],
      "source": []
    },
    {
      "cell_type": "code",
      "execution_count": null,
      "id": "35015b40",
      "metadata": {
        "id": "35015b40",
        "outputId": "17f3975e-0d14-4907-cdd0-b3a36c9b7d68"
      },
      "outputs": [
        {
          "data": {
            "text/plain": [
              "<AxesSubplot:xlabel='index', ylabel='metric1'>"
            ]
          },
          "execution_count": 88,
          "metadata": {},
          "output_type": "execute_result"
        },
        {
          "data": {
            "image/png": "[encoded data removed]",
            "text/plain": [
              "<Figure size 432x288 with 1 Axes>"
            ]
          },
          "metadata": {
            "needs_background": "light"
          },
          "output_type": "display_data"
        }
      ],
      "source": [
        "df32.reset_index().plot(kind='scatter', x='index', y='metric1')"
      ]
    },
    {
      "cell_type": "markdown",
      "id": "3a7b2ede",
      "metadata": {
        "id": "3a7b2ede"
      },
      "source": [
        "## metric 1 is ready to use\n",
        "\n",
        "## note that the NA values of metric 11 have simply been replaced by zero as NA values imply the absence of Lent or borrowed loans"
      ]
    },
    {
      "cell_type": "markdown",
      "id": "5725e77d",
      "metadata": {
        "id": "5725e77d"
      },
      "source": [
        "gold price per gram = 5,165\n",
        "silver price per gram = 58.07"
      ]
    },
    {
      "cell_type": "code",
      "execution_count": null,
      "id": "7a82c491",
      "metadata": {
        "id": "7a82c491"
      },
      "outputs": [],
      "source": [
        "Pgold = 5165\n",
        "Psilver = 58.07"
      ]
    },
    {
      "cell_type": "code",
      "execution_count": null,
      "id": "96cb55e2",
      "metadata": {
        "id": "96cb55e2"
      },
      "outputs": [],
      "source": [
        "df32['gold_amount'] = df32['qt_gold']*Pgold/1000\n",
        "df32['silver_amount']= df32['qt_silver']*Psilver/1000\n",
        "df22['gold_amount'] = df22['qt_gold']*Pgold/1000\n",
        "df22['silver_amount']= df22['qt_silver']*Psilver/1000"
      ]
    },
    {
      "cell_type": "code",
      "execution_count": null,
      "id": "efd3f3bf",
      "metadata": {
        "id": "efd3f3bf"
      },
      "outputs": [],
      "source": [
        "df32['secured1_amt'] = df32['gold_amount'] + df32['silver_amount']\n",
        "df22['secured1_amt'] = df22['gold_amount'] + df22['silver_amount']\n",
        "df32['scty_ratio1'] = df32['secured1_amt']/(df32['lent_amount'] + df32['borrowed_amount'])\n",
        "df22['scty_ratio1'] = df22['secured1_amt']/(df22['lent_amount'] + df22['borrowed_amount'])"
      ]
    },
    {
      "cell_type": "code",
      "execution_count": null,
      "id": "e71a9f60",
      "metadata": {
        "id": "e71a9f60",
        "outputId": "c6071b94-2671-46be-ff85-c074214a64da"
      },
      "outputs": [
        {
          "data": {
            "text/plain": [
              "<AxesSubplot:xlabel='index', ylabel='scty_ratio1'>"
            ]
          },
          "execution_count": 92,
          "metadata": {},
          "output_type": "execute_result"
        },
        {
          "data": {
            "image/png": "[encoded data removed]",
            "text/plain": [
              "<Figure size 432x288 with 1 Axes>"
            ]
          },
          "metadata": {
            "needs_background": "light"
          },
          "output_type": "display_data"
        }
      ],
      "source": [
        "df32.reset_index().plot(kind='scatter', x='index', y='scty_ratio1')"
      ]
    },
    {
      "cell_type": "code",
      "execution_count": null,
      "id": "950edee4",
      "metadata": {
        "id": "950edee4",
        "outputId": "cd37bda6-40ca-43b0-e0ee-93081f8f866e"
      },
      "outputs": [
        {
          "data": {
            "text/plain": [
              "Int64Index([ 368,  390,  499,  558,  668,  741,  743,  815,  860,  896, 1018,\n",
              "            1129, 1135, 1238, 1256, 1322, 1339, 1361, 1471, 1600, 1632, 1642,\n",
              "            1675, 1843, 1900, 2058, 2164, 2359, 2382, 2397, 2445, 2544, 2548,\n",
              "            2721, 2950, 3009],\n",
              "           dtype='int64')"
            ]
          },
          "execution_count": 93,
          "metadata": {},
          "output_type": "execute_result"
        }
      ],
      "source": [
        "outliers31_32 = df32.index[(df32['scty_ratio1'] > 1)]\n",
        "outliers31_32"
      ]
    },
    {
      "cell_type": "markdown",
      "id": "07d2bfda",
      "metadata": {
        "id": "07d2bfda"
      },
      "source": [
        "### fishy indices 1018, 1642 and 2721, extreme values of gold and silver qt entered. Will equate first to zero and then to mean. The rest of the values above also have very high silver and gold values, so will scale down those too."
      ]
    },
    {
      "cell_type": "code",
      "execution_count": null,
      "id": "ac5d2bf5",
      "metadata": {
        "id": "ac5d2bf5"
      },
      "outputs": [],
      "source": [
        "df32.loc[outliers31_32, 'scty_ratio1'] = 0\n",
        "mean3132 = df32['scty_ratio1'].mean()\n",
        "df32.loc[outliers31_32, 'scty_ratio1'] = mean3132\n"
      ]
    },
    {
      "cell_type": "code",
      "execution_count": null,
      "id": "fd1e3993",
      "metadata": {
        "id": "fd1e3993",
        "outputId": "dd850df6-16e8-40f8-f752-442a271eaefa"
      },
      "outputs": [
        {
          "data": {
            "text/plain": [
              "<AxesSubplot:xlabel='index', ylabel='scty_ratio1'>"
            ]
          },
          "execution_count": 100,
          "metadata": {},
          "output_type": "execute_result"
        },
        {
          "data": {
            "image/png": "[encoded data removed]",
            "text/plain": [
              "<Figure size 432x288 with 1 Axes>"
            ]
          },
          "metadata": {
            "needs_background": "light"
          },
          "output_type": "display_data"
        }
      ],
      "source": [
        "df22.reset_index().plot(kind='scatter', x='index', y='scty_ratio1')"
      ]
    },
    {
      "cell_type": "code",
      "execution_count": null,
      "id": "812a6198",
      "metadata": {
        "id": "812a6198",
        "outputId": "c5536344-0245-423e-c097-fa0c62d54f92"
      },
      "outputs": [
        {
          "data": {
            "text/plain": [
              "Int64Index([730, 867, 1151, 1397, 1621, 1769, 2248, 2406, 2876, 3015], dtype='int64')"
            ]
          },
          "execution_count": 96,
          "metadata": {},
          "output_type": "execute_result"
        }
      ],
      "source": [
        "outliers31_22 = df22.index[(df22['scty_ratio1'] >2)]\n",
        "outliers31_22"
      ]
    },
    {
      "cell_type": "markdown",
      "id": "908119dc",
      "metadata": {
        "id": "908119dc"
      },
      "source": [
        "### Index 730, 1397, 2248, 2406 and 2876 have extreme values of scty ratio 1. Will eliminate these as 0 too. Rest will be computed and replaced as before"
      ]
    },
    {
      "cell_type": "code",
      "execution_count": null,
      "id": "05b37ad3",
      "metadata": {
        "id": "05b37ad3"
      },
      "outputs": [],
      "source": [
        "df22.loc[outliers31_22, 'scty_ratio1'] = 0\n",
        "mean3122 = df22['scty_ratio1'].mean()\n",
        "df22.loc[outliers31_22, 'scty_ratio1'] = mean3122\n"
      ]
    },
    {
      "cell_type": "code",
      "execution_count": null,
      "id": "f640988d",
      "metadata": {
        "id": "f640988d"
      },
      "outputs": [],
      "source": []
    },
    {
      "cell_type": "code",
      "execution_count": null,
      "id": "222ba991",
      "metadata": {
        "id": "222ba991"
      },
      "outputs": [],
      "source": []
    },
    {
      "cell_type": "markdown",
      "id": "0c374c35",
      "metadata": {
        "id": "0c374c35"
      },
      "source": [
        "# give more weight to part 2 of 'diversity' metric as most peope have not entered gold quantity"
      ]
    },
    {
      "cell_type": "code",
      "execution_count": null,
      "id": "05b15197",
      "metadata": {
        "id": "05b15197"
      },
      "outputs": [],
      "source": [
        "df32['scty_ratio2'] = (df32['count_gold'] + df32['count_silver']+ df32['mortgage_count'])/(df32['lent_loans']+ df32['borrowed_loans'])\n",
        "df22['scty_ratio2'] = (df22['count_gold'] + df22['count_silver']+ df22['mortgage_count'])/(df22['lent_loans']+ df22['borrowed_loans'])\n"
      ]
    },
    {
      "cell_type": "code",
      "execution_count": null,
      "id": "a1357d0b",
      "metadata": {
        "id": "a1357d0b",
        "outputId": "60b74bdb-c06a-41bc-a84f-5ccb9e78bb51"
      },
      "outputs": [
        {
          "data": {
            "text/plain": [
              "<AxesSubplot:xlabel='index', ylabel='scty_ratio2'>"
            ]
          },
          "execution_count": 101,
          "metadata": {},
          "output_type": "execute_result"
        },
        {
          "data": {
            "image/png": "[encoded data removed]",
            "text/plain": [
              "<Figure size 432x288 with 1 Axes>"
            ]
          },
          "metadata": {
            "needs_background": "light"
          },
          "output_type": "display_data"
        }
      ],
      "source": [
        "df22.reset_index().plot(kind='scatter', x='index', y='scty_ratio2')"
      ]
    },
    {
      "cell_type": "code",
      "execution_count": null,
      "id": "2350fc0b",
      "metadata": {
        "id": "2350fc0b"
      },
      "outputs": [],
      "source": [
        "df32['scty_ratio3'] = (df32['lent_loans'] + df32['borrowed_loans'])/100\n",
        "df22['scty_ratio3'] = (df22['lent_loans'] + df22['borrowed_loans'])/100"
      ]
    },
    {
      "cell_type": "code",
      "execution_count": null,
      "id": "2d16ad00",
      "metadata": {
        "id": "2d16ad00",
        "outputId": "a04e9c92-9ba8-45fc-a4d8-da3c4699af65"
      },
      "outputs": [
        {
          "data": {
            "text/plain": [
              "<AxesSubplot:xlabel='index', ylabel='scty_ratio3'>"
            ]
          },
          "execution_count": 103,
          "metadata": {},
          "output_type": "execute_result"
        },
        {
          "data": {
            "image/png": "[encoded data removed]",
            "text/plain": [
              "<Figure size 432x288 with 1 Axes>"
            ]
          },
          "metadata": {
            "needs_background": "light"
          },
          "output_type": "display_data"
        }
      ],
      "source": [
        "df32.reset_index().plot(kind='scatter', x='index', y='scty_ratio3')"
      ]
    },
    {
      "cell_type": "markdown",
      "id": "81f6b24f",
      "metadata": {
        "id": "81f6b24f"
      },
      "source": [
        "### weights = 0.4 for ratio 2, 0.3 for 1 and 3 each"
      ]
    },
    {
      "cell_type": "code",
      "execution_count": null,
      "id": "e7327b1a",
      "metadata": {
        "id": "e7327b1a",
        "outputId": "3ee39ab5-a170-47f2-8f00-65e37461fe61"
      },
      "outputs": [
        {
          "data": {
            "text/plain": [
              "1       0.071667\n",
              "2       0.248000\n",
              "3       0.196429\n",
              "4       0.635455\n",
              "5       0.307980\n",
              "          ...   \n",
              "3016    0.224000\n",
              "3017    0.124000\n",
              "3018    0.003000\n",
              "3019    0.015000\n",
              "3020    0.018000\n",
              "Name: scty_total, Length: 2258, dtype: float64"
            ]
          },
          "execution_count": 104,
          "metadata": {},
          "output_type": "execute_result"
        }
      ],
      "source": [
        "df32['scty_total'] = 0.3*df32['scty_ratio1'] + 0.4*df32['scty_ratio2'] + 0.3*df32['scty_ratio3']\n",
        "df22['scty_total'] = 0.3*df22['scty_ratio1'] + 0.4*df22['scty_ratio2'] + 0.3*df22['scty_ratio3']\n",
        "df32['scty_total']"
      ]
    },
    {
      "cell_type": "code",
      "execution_count": null,
      "id": "287e464c",
      "metadata": {
        "id": "287e464c",
        "outputId": "236a3802-079c-410c-837b-ccf77520b49d"
      },
      "outputs": [
        {
          "data": {
            "text/plain": [
              "<AxesSubplot:xlabel='index', ylabel='scty_total'>"
            ]
          },
          "execution_count": 105,
          "metadata": {},
          "output_type": "execute_result"
        },
        {
          "data": {
            "image/png": "[encoded data removed]",
            "text/plain": [
              "<Figure size 432x288 with 1 Axes>"
            ]
          },
          "metadata": {
            "needs_background": "light"
          },
          "output_type": "display_data"
        }
      ],
      "source": [
        "df22.reset_index().plot(kind='scatter', x='index', y='scty_total')"
      ]
    },
    {
      "cell_type": "code",
      "execution_count": null,
      "id": "2c30f35e",
      "metadata": {
        "id": "2c30f35e",
        "outputId": "3813c3d3-0584-4bb4-c159-e1ce3e8e8ad5"
      },
      "outputs": [
        {
          "data": {
            "text/plain": [
              "0"
            ]
          },
          "execution_count": 106,
          "metadata": {},
          "output_type": "execute_result"
        }
      ],
      "source": [
        "df32['scty_total'].isna().sum()"
      ]
    },
    {
      "cell_type": "code",
      "execution_count": null,
      "id": "11b262b1",
      "metadata": {
        "id": "11b262b1",
        "outputId": "e8adb1d8-e469-4737-f059-015f120ea969"
      },
      "outputs": [
        {
          "data": {
            "text/plain": [
              "Int64Index([], dtype='int64')"
            ]
          },
          "execution_count": 107,
          "metadata": {},
          "output_type": "execute_result"
        }
      ],
      "source": [
        "count4 = df32.index[(df32['scty_total'] > 500)]\n",
        "count4"
      ]
    },
    {
      "cell_type": "code",
      "execution_count": null,
      "id": "526d697e",
      "metadata": {
        "id": "526d697e"
      },
      "outputs": [],
      "source": []
    },
    {
      "cell_type": "markdown",
      "id": "78e45dd4",
      "metadata": {
        "id": "78e45dd4"
      },
      "source": []
    },
    {
      "cell_type": "markdown",
      "id": "edb629d8",
      "metadata": {
        "id": "edb629d8"
      },
      "source": [
        "## metric 3 ready to use (scty_total)"
      ]
    },
    {
      "cell_type": "code",
      "execution_count": null,
      "id": "958d62ef",
      "metadata": {
        "id": "958d62ef"
      },
      "outputs": [],
      "source": []
    },
    {
      "cell_type": "code",
      "execution_count": null,
      "id": "cf366382",
      "metadata": {
        "id": "cf366382"
      },
      "outputs": [],
      "source": []
    },
    {
      "cell_type": "code",
      "execution_count": null,
      "id": "c068e3c9",
      "metadata": {
        "id": "c068e3c9"
      },
      "outputs": [],
      "source": []
    },
    {
      "cell_type": "code",
      "execution_count": null,
      "id": "be61bcd0",
      "metadata": {
        "id": "be61bcd0"
      },
      "outputs": [],
      "source": []
    },
    {
      "cell_type": "code",
      "execution_count": null,
      "id": "0dde6a45",
      "metadata": {
        "id": "0dde6a45"
      },
      "outputs": [],
      "source": []
    },
    {
      "cell_type": "code",
      "execution_count": null,
      "id": "e1a18c5c",
      "metadata": {
        "id": "e1a18c5c"
      },
      "outputs": [],
      "source": []
    },
    {
      "cell_type": "code",
      "execution_count": null,
      "id": "5d2fc42d",
      "metadata": {
        "id": "5d2fc42d"
      },
      "outputs": [],
      "source": []
    },
    {
      "cell_type": "code",
      "execution_count": null,
      "id": "70914725",
      "metadata": {
        "id": "70914725"
      },
      "outputs": [],
      "source": []
    },
    {
      "cell_type": "markdown",
      "id": "ddd6a114",
      "metadata": {
        "id": "ddd6a114"
      },
      "source": []
    },
    {
      "cell_type": "code",
      "execution_count": null,
      "id": "6f34f2eb",
      "metadata": {
        "id": "6f34f2eb"
      },
      "outputs": [],
      "source": [
        "df32['newlentratio'] = (df32['lent_cnt_october'] + df32['lent_cnt_november'])/(df32['lent_cnt_june'] + df32['lent_cnt_july'] +df32['lent_cnt_august'] +df32['lent_cnt_september'] +df32['lent_cnt_october'] +df32['lent_cnt_november'] )\n",
        "df22['newlentratio'] = (df22['lent_cnt_october'] + df22['lent_cnt_november'])/(df22['lent_cnt_june'] + df22['lent_cnt_july'] +df22['lent_cnt_august'] +df22['lent_cnt_september'] +df22['lent_cnt_october'] +df22['lent_cnt_november'] )\n",
        "df32['newborrowedratio'] = (df32['borrowed_cnt_october'] + df32['borrowed_cnt_november'])/(df32['borrowed_cnt_june'] + df32['borrowed_cnt_july'] + df32['borrowed_cnt_august'] + df32['borrowed_cnt_september'] + df32['borrowed_cnt_october'] + df32['borrowed_cnt_november'])\n",
        "df22['newborrowedratio'] = (df22['borrowed_cnt_october'] + df22['borrowed_cnt_november'])/(df22['borrowed_cnt_june'] + df22['borrowed_cnt_july'] + df22['borrowed_cnt_august'] + df22['borrowed_cnt_september'] + df22['borrowed_cnt_october'] + df22['borrowed_cnt_november'])                                                                              "
      ]
    },
    {
      "cell_type": "code",
      "execution_count": null,
      "id": "8859183e",
      "metadata": {
        "id": "8859183e"
      },
      "outputs": [],
      "source": [
        "df32['newlentamtratio'] = (df32['lent_october'] + df32['lent_november'])/(df32['lent_june'] + df32['lent_july'] +df32['lent_august'] +df32['lent_september'] +df32['lent_october'] +df32['lent_november'] )\n",
        "df22['newlentamtratio'] = (df22['lent_october'] + df22['lent_november'])/(df22['lent_june'] + df22['lent_july'] +df22['lent_august'] +df22['lent_september'] +df22['lent_october'] +df22['lent_november'] )\n",
        "df32['newborrowedamtratio'] = (df32['borrowed_october'] + df32['borrowed_november'])/(df32['borrowed_june'] + df32['borrowed_july'] + df32['borrowed_august'] + df32['borrowed_september'] + df32['borrowed_october'] + df32['borrowed_november'])\n",
        "df22['newborrowedamtratio'] = (df22['borrowed_october'] + df22['borrowed_november'])/(df22['borrowed_june'] + df22['borrowed_july'] + df22['borrowed_august'] + df22['borrowed_september'] + df22['borrowed_october'] + df22['borrowed_november'] )                                                                              "
      ]
    },
    {
      "cell_type": "code",
      "execution_count": null,
      "id": "67767021",
      "metadata": {
        "id": "67767021",
        "outputId": "a564bed0-c5fd-4ff2-b00a-977449808350"
      },
      "outputs": [
        {
          "data": {
            "text/plain": [
              "<AxesSubplot:xlabel='index', ylabel='newlentratio'>"
            ]
          },
          "execution_count": 128,
          "metadata": {},
          "output_type": "execute_result"
        },
        {
          "data": {
            "image/png": "[encoded data removed]",
            "text/plain": [
              "<Figure size 432x288 with 1 Axes>"
            ]
          },
          "metadata": {
            "needs_background": "light"
          },
          "output_type": "display_data"
        }
      ],
      "source": [
        "df32.reset_index().plot(kind='scatter', x='index', y='newlentratio')"
      ]
    },
    {
      "cell_type": "code",
      "execution_count": null,
      "id": "259059db",
      "metadata": {
        "id": "259059db",
        "outputId": "9a3e87d3-778e-4e15-aca4-41583012b899"
      },
      "outputs": [
        {
          "data": {
            "text/plain": [
              "25     0\n",
              "69     0\n",
              "109    0\n",
              "110    0\n",
              "140    0\n",
              "Name: check1, dtype: int64"
            ]
          },
          "execution_count": 125,
          "metadata": {},
          "output_type": "execute_result"
        }
      ],
      "source": [
        "# df32['check1'] = (df32['lent_cnt_june'] + df32['lent_cnt_july'] +df32['lent_cnt_august'] +df32['lent_cnt_september'] +df32['lent_cnt_october'] +df32['lent_cnt_november'] )\n",
        "# indexloc = df32.index[(df32['newlentratio']).isna()]\n",
        "# df32check = df32.loc[indexloc,'check1']\n",
        "# df32check.head()\n",
        "\n",
        "## Checking if the NA values are only because of Dr = 0 "
      ]
    },
    {
      "cell_type": "code",
      "execution_count": null,
      "id": "d41af953",
      "metadata": {
        "id": "d41af953"
      },
      "outputs": [],
      "source": [
        "df32['newlentratio'] = df32['newlentratio'].fillna(0)\n",
        "df32['newlentamtratio'] = df32['newlentamtratio'].fillna(0)\n",
        "df32['newborrowedratio'] = df32['newborrowedratio'].fillna(0)\n",
        "df32['newborrowedamtratio'] = df32['newborrowedamtratio'].fillna(0)\n",
        "df22['newlentratio'] = df22['newlentratio'].fillna(0)\n",
        "df22['newlentamtratio'] = df22['newlentamtratio'].fillna(0)\n",
        "df22['newborrowedratio'] = df22['newborrowedratio'].fillna(0)\n",
        "df22['newborrowedamtratio'] = df22['newborrowedamtratio'].fillna(0)"
      ]
    },
    {
      "cell_type": "code",
      "execution_count": null,
      "id": "2e5f8467",
      "metadata": {
        "id": "2e5f8467"
      },
      "outputs": [],
      "source": []
    },
    {
      "cell_type": "code",
      "execution_count": null,
      "id": "e2ed117e",
      "metadata": {
        "id": "e2ed117e"
      },
      "outputs": [],
      "source": []
    },
    {
      "cell_type": "code",
      "execution_count": null,
      "id": "1e4388e3",
      "metadata": {
        "id": "1e4388e3"
      },
      "outputs": [],
      "source": []
    },
    {
      "cell_type": "markdown",
      "id": "1c937a7c",
      "metadata": {
        "id": "1c937a7c"
      },
      "source": [
        "### since this has a lot of NA values, give a little less weight"
      ]
    },
    {
      "cell_type": "code",
      "execution_count": null,
      "id": "bedf9a72",
      "metadata": {
        "id": "bedf9a72"
      },
      "outputs": [],
      "source": [
        "df32['metric41'] = df32['rll']*df32['newlentratio'] - df32['rlb']*df32['newborrowedratio']\n",
        "df32['metric42'] = df32['rll']*df32['newlentamtratio'] - df32['rlb']*df32['newborrowedamtratio']\n",
        "df32['metric4'] = df32['metric41'] + df32['metric42']"
      ]
    },
    {
      "cell_type": "code",
      "execution_count": null,
      "id": "02edaec5",
      "metadata": {
        "id": "02edaec5"
      },
      "outputs": [],
      "source": [
        "df22['metric41'] = df22['rbl']*df22['newlentratio'] - df22['rbb']*df22['newborrowedratio']\n",
        "df22['metric42'] = df22['rbl']*df22['newlentamtratio'] - df22['rbb']*df22['newborrowedamtratio']\n",
        "df22['metric4'] = df22['metric42'] + df22['metric41']"
      ]
    },
    {
      "cell_type": "code",
      "execution_count": null,
      "id": "edfb647a",
      "metadata": {
        "id": "edfb647a",
        "outputId": "56ab83e9-c71a-4b8a-f11f-fc747a3ff19c"
      },
      "outputs": [
        {
          "data": {
            "text/plain": [
              "<AxesSubplot:xlabel='index', ylabel='metric4'>"
            ]
          },
          "execution_count": 131,
          "metadata": {},
          "output_type": "execute_result"
        },
        {
          "data": {
            "image/png": "[encoded data removed]",
            "text/plain": [
              "<Figure size 432x288 with 1 Axes>"
            ]
          },
          "metadata": {
            "needs_background": "light"
          },
          "output_type": "display_data"
        }
      ],
      "source": [
        "df22.reset_index().plot(kind='scatter', x='index', y='metric4')"
      ]
    },
    {
      "cell_type": "code",
      "execution_count": null,
      "id": "8d6d8f91",
      "metadata": {
        "id": "8d6d8f91",
        "outputId": "f62a80a4-5d0f-4778-d578-445dccae20e9"
      },
      "outputs": [
        {
          "data": {
            "text/plain": [
              "<AxesSubplot:xlabel='index', ylabel='metric4'>"
            ]
          },
          "execution_count": 132,
          "metadata": {},
          "output_type": "execute_result"
        },
        {
          "data": {
            "image/png": "[encoded data removed]",
            "text/plain": [
              "<Figure size 432x288 with 1 Axes>"
            ]
          },
          "metadata": {
            "needs_background": "light"
          },
          "output_type": "display_data"
        }
      ],
      "source": [
        "df32.reset_index().plot(kind='scatter', x='index', y='metric4')"
      ]
    },
    {
      "cell_type": "code",
      "execution_count": null,
      "id": "b313b314",
      "metadata": {
        "id": "b313b314",
        "outputId": "280d2cfe-6276-44cc-f809-d2b3c5fe960a"
      },
      "outputs": [
        {
          "data": {
            "text/plain": [
              "0"
            ]
          },
          "execution_count": 134,
          "metadata": {},
          "output_type": "execute_result"
        }
      ],
      "source": [
        "df22['metric4'].isna().sum()"
      ]
    },
    {
      "cell_type": "markdown",
      "id": "bafd843e",
      "metadata": {
        "id": "bafd843e"
      },
      "source": [
        "### No particular outliers or NA values requring further analysis"
      ]
    },
    {
      "cell_type": "markdown",
      "id": "4773d60e",
      "metadata": {
        "id": "4773d60e"
      },
      "source": [
        "## metric 4 ready to use "
      ]
    },
    {
      "cell_type": "code",
      "execution_count": null,
      "id": "9632670c",
      "metadata": {
        "id": "9632670c",
        "outputId": "b00ffbe9-5359-434d-d465-cfa00571cee6"
      },
      "outputs": [
        {
          "data": {
            "text/plain": [
              "lead_id                  int64\n",
              "created_At              object\n",
              "language                 int64\n",
              "sub_period               int64\n",
              "sub_duration             int64\n",
              "                        ...   \n",
              "newlentamtratio        float64\n",
              "newborrowedamtratio    float64\n",
              "metric41               float64\n",
              "metric42               float64\n",
              "metric4                float64\n",
              "Length: 111, dtype: object"
            ]
          },
          "execution_count": 663,
          "metadata": {},
          "output_type": "execute_result"
        }
      ],
      "source": [
        "df32.dtypes"
      ]
    },
    {
      "cell_type": "code",
      "execution_count": null,
      "id": "3fe5f9a0",
      "metadata": {
        "id": "3fe5f9a0"
      },
      "outputs": [],
      "source": []
    },
    {
      "cell_type": "code",
      "execution_count": null,
      "id": "46821d66",
      "metadata": {
        "id": "46821d66"
      },
      "outputs": [],
      "source": []
    },
    {
      "cell_type": "code",
      "execution_count": null,
      "id": "8737a35a",
      "metadata": {
        "id": "8737a35a"
      },
      "outputs": [],
      "source": []
    },
    {
      "cell_type": "code",
      "execution_count": null,
      "id": "34450252",
      "metadata": {
        "id": "34450252"
      },
      "outputs": [],
      "source": []
    },
    {
      "cell_type": "code",
      "execution_count": null,
      "id": "c20b261a",
      "metadata": {
        "id": "c20b261a"
      },
      "outputs": [],
      "source": [
        "\n"
      ]
    },
    {
      "cell_type": "code",
      "execution_count": null,
      "id": "626f14c4",
      "metadata": {
        "id": "626f14c4"
      },
      "outputs": [],
      "source": []
    },
    {
      "cell_type": "code",
      "execution_count": null,
      "id": "d02537de",
      "metadata": {
        "id": "d02537de",
        "outputId": "a5c20bea-11a3-4673-dd9a-9fdc8c4a92de"
      },
      "outputs": [
        {
          "data": {
            "text/plain": [
              "<AxesSubplot:xlabel='index', ylabel='metric1'>"
            ]
          },
          "execution_count": 135,
          "metadata": {},
          "output_type": "execute_result"
        },
        {
          "data": {
            "image/png": "[encoded data removed]",
            "text/plain": [
              "<Figure size 432x288 with 1 Axes>"
            ]
          },
          "metadata": {
            "needs_background": "light"
          },
          "output_type": "display_data"
        }
      ],
      "source": [
        "df32['metric6'] = df32['sub_duration']/365\n",
        "df22['metric6'] = df22['sub_duration']/365\n",
        "df22.reset_index().plot(kind='scatter', x='index', y='metric1')"
      ]
    },
    {
      "cell_type": "markdown",
      "id": "b46a922a",
      "metadata": {
        "id": "b46a922a"
      },
      "source": [
        "## Metric 6 ready "
      ]
    },
    {
      "cell_type": "code",
      "execution_count": null,
      "id": "a447d799",
      "metadata": {
        "id": "a447d799"
      },
      "outputs": [],
      "source": [
        "a = 2\n",
        "j=0\n",
        "df32['transaction_wtd_sum'] = 0\n",
        "df32['transaction_total_sum'] = 0\n",
        "transaction_list = ['transactions_june', 'transactions_july', 'transactions_august', 'transactions_september', 'transactions_october', 'transactions_november']\n",
        "for i in transaction_list:\n",
        "    df32['transaction_wtd_sum'] = (a**j)*df32[i] + df32['transaction_wtd_sum']\n",
        "    j = j+1\n",
        "# df32.reset_index().plot(kind='scatter', x='index', y='transaction_sum')\n",
        "for i in transaction_list:\n",
        "    df32['transaction_total_sum'] = df32['transaction_total_sum'] + df32[i]"
      ]
    },
    {
      "cell_type": "code",
      "execution_count": null,
      "id": "a9af17e6",
      "metadata": {
        "id": "a9af17e6"
      },
      "outputs": [],
      "source": [
        "df32['transaction_wtd_sum'] = df32['transaction_wtd_sum']/63\n",
        "df32['metric71'] = (df32['transaction_wtd_sum']/df32['transaction_total_sum'])"
      ]
    },
    {
      "cell_type": "code",
      "execution_count": null,
      "id": "4d8e4f60",
      "metadata": {
        "id": "4d8e4f60",
        "outputId": "7590fde4-3658-404d-ce13-c67b1820405b"
      },
      "outputs": [
        {
          "data": {
            "text/plain": [
              "<AxesSubplot:xlabel='index', ylabel='metric71'>"
            ]
          },
          "execution_count": 138,
          "metadata": {},
          "output_type": "execute_result"
        },
        {
          "data": {
            "image/png": "[encoded data removed]",
            "text/plain": [
              "<Figure size 432x288 with 1 Axes>"
            ]
          },
          "metadata": {
            "needs_background": "light"
          },
          "output_type": "display_data"
        }
      ],
      "source": [
        "df32.reset_index().plot(kind='scatter', x='index', y='metric71')"
      ]
    },
    {
      "cell_type": "code",
      "execution_count": null,
      "id": "7bdd92da",
      "metadata": {
        "id": "7bdd92da",
        "outputId": "9a0d6bc1-6a38-436c-8b85-61f538b7b57d"
      },
      "outputs": [
        {
          "data": {
            "text/plain": [
              "1        0.000000\n",
              "2        4.158730\n",
              "3        0.031746\n",
              "4       77.920635\n",
              "5        0.000000\n",
              "          ...    \n",
              "3016     0.000000\n",
              "3017     0.000000\n",
              "3018     0.000000\n",
              "3019     6.269841\n",
              "3020     0.000000\n",
              "Name: transaction_wtd_sum, Length: 2258, dtype: float64"
            ]
          },
          "execution_count": 139,
          "metadata": {},
          "output_type": "execute_result"
        }
      ],
      "source": [
        "df32['transaction_wtd_sum']"
      ]
    },
    {
      "cell_type": "code",
      "execution_count": null,
      "id": "372a524e",
      "metadata": {
        "id": "372a524e"
      },
      "outputs": [],
      "source": [
        "b = 2\n",
        "j=0\n",
        "df22['transaction_wtd_sum'] = 0\n",
        "df22['transaction_total_sum'] = 0\n",
        "transaction_list = ['transactions_june', 'transactions_july', 'transactions_august', 'transactions_september', 'transactions_october', 'transactions_november']\n",
        "for i in transaction_list:\n",
        "    df22['transaction_wtd_sum'] = (b**j)*df22[i] + df22['transaction_wtd_sum']\n",
        "    j = j+1\n",
        "# df32.reset_index().plot(kind='scatter', x='index', y='transaction_sum')\n",
        "for i in transaction_list:\n",
        "    df22['transaction_total_sum'] = df22['transaction_total_sum'] + df22[i]"
      ]
    },
    {
      "cell_type": "code",
      "execution_count": null,
      "id": "a73e9e6d",
      "metadata": {
        "id": "a73e9e6d"
      },
      "outputs": [],
      "source": [
        "df22['transaction_wtd_sum'] = df22['transaction_wtd_sum']/63\n",
        "df22['metric71'] = (df22['transaction_wtd_sum']/df22['transaction_total_sum'])"
      ]
    },
    {
      "cell_type": "code",
      "execution_count": null,
      "id": "dff952b2",
      "metadata": {
        "id": "dff952b2",
        "outputId": "9c195883-66a7-405c-a329-4c47e60bb81b"
      },
      "outputs": [
        {
          "data": {
            "text/plain": [
              "<AxesSubplot:xlabel='index', ylabel='metric71'>"
            ]
          },
          "execution_count": 150,
          "metadata": {},
          "output_type": "execute_result"
        },
        {
          "data": {
            "image/png": "[encoded data removed]",
            "text/plain": [
              "<Figure size 432x288 with 1 Axes>"
            ]
          },
          "metadata": {
            "needs_background": "light"
          },
          "output_type": "display_data"
        }
      ],
      "source": [
        "df22.reset_index().plot(kind='scatter', x='index', y='metric71')"
      ]
    },
    {
      "cell_type": "code",
      "execution_count": null,
      "id": "d661db6b",
      "metadata": {
        "id": "d661db6b"
      },
      "outputs": [],
      "source": [
        "df22['metric71'] = df22['metric71'].fillna(0)\n",
        "df32['metric71'] = df32['metric71'].fillna(0)"
      ]
    },
    {
      "cell_type": "markdown",
      "id": "490a40da",
      "metadata": {
        "id": "490a40da"
      },
      "source": [
        "## metric 7 ready to use"
      ]
    },
    {
      "cell_type": "code",
      "execution_count": null,
      "id": "b65005b2",
      "metadata": {
        "id": "b65005b2"
      },
      "outputs": [],
      "source": [
        "df32['5r1'] =0 \n",
        "df32['5r2'] = 0\n",
        "df32['5l1'] = 0\n",
        "df32['5l2']  = 0"
      ]
    },
    {
      "cell_type": "code",
      "execution_count": null,
      "id": "94761d54",
      "metadata": {
        "id": "94761d54"
      },
      "outputs": [],
      "source": [
        "df32['5r1'] = df32['recovered_june'] + df32['recovered_july'] + df32['recovered_august']\n",
        "df32['5r2'] = df32['recovered_september'] + df32['recovered_october'] + df32['recovered_november']"
      ]
    },
    {
      "cell_type": "code",
      "execution_count": null,
      "id": "04257562",
      "metadata": {
        "id": "04257562"
      },
      "outputs": [],
      "source": []
    },
    {
      "cell_type": "code",
      "execution_count": null,
      "id": "a112588d",
      "metadata": {
        "id": "a112588d"
      },
      "outputs": [],
      "source": [
        "df32['5l1'] = df32['lent_cnt_june']  + df32['lent_cnt_july'] + df32['lent_cnt_august']\n",
        "df32['5l2'] = df32['lent_cnt_september']  + df32['lent_cnt_october'] + df32['lent_cnt_november']"
      ]
    },
    {
      "cell_type": "code",
      "execution_count": null,
      "id": "4c2c7b4d",
      "metadata": {
        "id": "4c2c7b4d"
      },
      "outputs": [],
      "source": [
        "df32['p']= (df32['5l2']*df32['5r1'])/(df32['5l1']*df32['5r2'])"
      ]
    },
    {
      "cell_type": "code",
      "execution_count": null,
      "id": "e5104de1",
      "metadata": {
        "id": "e5104de1",
        "outputId": "a058da92-29d1-41cc-fdd9-6625463afd5d"
      },
      "outputs": [
        {
          "data": {
            "text/plain": [
              "<AxesSubplot:xlabel='index', ylabel='p'>"
            ]
          },
          "execution_count": 193,
          "metadata": {},
          "output_type": "execute_result"
        },
        {
          "data": {
            "image/png": "[encoded data removed]",
            "text/plain": [
              "<Figure size 432x288 with 1 Axes>"
            ]
          },
          "metadata": {
            "needs_background": "light"
          },
          "output_type": "display_data"
        }
      ],
      "source": [
        "df32.reset_index().plot(kind='scatter', x='index', y='p')"
      ]
    },
    {
      "cell_type": "code",
      "execution_count": null,
      "id": "6f76ce89",
      "metadata": {
        "id": "6f76ce89",
        "outputId": "8f33910a-6523-4542-d670-445cacf5454a"
      },
      "outputs": [
        {
          "data": {
            "text/html": [
              "<div>\n",
              "<style scoped>\n",
              "    .dataframe tbody tr th:only-of-type {\n",
              "        vertical-align: middle;\n",
              "    }\n",
              "\n",
              "    .dataframe tbody tr th {\n",
              "        vertical-align: top;\n",
              "    }\n",
              "\n",
              "    .dataframe thead th {\n",
              "        text-align: right;\n",
              "    }\n",
              "</style>\n",
              "<table border=\"1\" class=\"dataframe\">\n",
              "  <thead>\n",
              "    <tr style=\"text-align: right;\">\n",
              "      <th></th>\n",
              "      <th>5r1</th>\n",
              "      <th>5r2</th>\n",
              "      <th>5l1</th>\n",
              "      <th>5l2</th>\n",
              "    </tr>\n",
              "  </thead>\n",
              "  <tbody>\n",
              "    <tr>\n",
              "      <th>3</th>\n",
              "      <td>5000.0</td>\n",
              "      <td>0.0</td>\n",
              "      <td>23</td>\n",
              "      <td>2</td>\n",
              "    </tr>\n",
              "    <tr>\n",
              "      <th>128</th>\n",
              "      <td>163000.0</td>\n",
              "      <td>0.0</td>\n",
              "      <td>1</td>\n",
              "      <td>4</td>\n",
              "    </tr>\n",
              "    <tr>\n",
              "      <th>161</th>\n",
              "      <td>139000.0</td>\n",
              "      <td>40500.0</td>\n",
              "      <td>0</td>\n",
              "      <td>1</td>\n",
              "    </tr>\n",
              "    <tr>\n",
              "      <th>201</th>\n",
              "      <td>20000.0</td>\n",
              "      <td>47000.0</td>\n",
              "      <td>0</td>\n",
              "      <td>1</td>\n",
              "    </tr>\n",
              "    <tr>\n",
              "      <th>304</th>\n",
              "      <td>116600.0</td>\n",
              "      <td>0.0</td>\n",
              "      <td>2</td>\n",
              "      <td>1</td>\n",
              "    </tr>\n",
              "    <tr>\n",
              "      <th>...</th>\n",
              "      <td>...</td>\n",
              "      <td>...</td>\n",
              "      <td>...</td>\n",
              "      <td>...</td>\n",
              "    </tr>\n",
              "    <tr>\n",
              "      <th>2750</th>\n",
              "      <td>4480.0</td>\n",
              "      <td>5921.7</td>\n",
              "      <td>0</td>\n",
              "      <td>23</td>\n",
              "    </tr>\n",
              "    <tr>\n",
              "      <th>2770</th>\n",
              "      <td>7000.0</td>\n",
              "      <td>0.0</td>\n",
              "      <td>0</td>\n",
              "      <td>10</td>\n",
              "    </tr>\n",
              "    <tr>\n",
              "      <th>2771</th>\n",
              "      <td>7500.0</td>\n",
              "      <td>158100.0</td>\n",
              "      <td>0</td>\n",
              "      <td>24</td>\n",
              "    </tr>\n",
              "    <tr>\n",
              "      <th>2831</th>\n",
              "      <td>2000.0</td>\n",
              "      <td>55000.0</td>\n",
              "      <td>0</td>\n",
              "      <td>20</td>\n",
              "    </tr>\n",
              "    <tr>\n",
              "      <th>3019</th>\n",
              "      <td>16758.0</td>\n",
              "      <td>17493.0</td>\n",
              "      <td>0</td>\n",
              "      <td>1</td>\n",
              "    </tr>\n",
              "  </tbody>\n",
              "</table>\n",
              "<p>175 rows × 4 columns</p>\n",
              "</div>"
            ],
            "text/plain": [
              "           5r1       5r2  5l1  5l2\n",
              "3       5000.0       0.0   23    2\n",
              "128   163000.0       0.0    1    4\n",
              "161   139000.0   40500.0    0    1\n",
              "201    20000.0   47000.0    0    1\n",
              "304   116600.0       0.0    2    1\n",
              "...        ...       ...  ...  ...\n",
              "2750    4480.0    5921.7    0   23\n",
              "2770    7000.0       0.0    0   10\n",
              "2771    7500.0  158100.0    0   24\n",
              "2831    2000.0   55000.0    0   20\n",
              "3019   16758.0   17493.0    0    1\n",
              "\n",
              "[175 rows x 4 columns]"
            ]
          },
          "execution_count": 196,
          "metadata": {},
          "output_type": "execute_result"
        }
      ],
      "source": [
        "outliers5_32 = df32.index[(df32['p'] > 80)]\n",
        "df32.loc[outliers5_32, ['5r1', '5r2', '5l1', '5l2']]"
      ]
    },
    {
      "cell_type": "code",
      "execution_count": null,
      "id": "d3950830",
      "metadata": {
        "id": "d3950830"
      },
      "outputs": [],
      "source": []
    },
    {
      "cell_type": "code",
      "execution_count": null,
      "id": "cd8d6ea2",
      "metadata": {
        "id": "cd8d6ea2"
      },
      "outputs": [],
      "source": []
    },
    {
      "cell_type": "code",
      "execution_count": null,
      "id": "fba18a7e",
      "metadata": {
        "id": "fba18a7e"
      },
      "outputs": [],
      "source": []
    },
    {
      "cell_type": "markdown",
      "id": "bda2087b",
      "metadata": {
        "id": "bda2087b"
      },
      "source": [
        "## consider gold/other security loans in p>10 case "
      ]
    },
    {
      "cell_type": "markdown",
      "id": "b9921bf8",
      "metadata": {
        "id": "b9921bf8"
      },
      "source": [
        "Based on the scatter plot values, the values for threshold of P have been updated in the main doc ( 10, 6, 1)"
      ]
    },
    {
      "cell_type": "code",
      "execution_count": null,
      "id": "c0b113cb",
      "metadata": {
        "id": "c0b113cb"
      },
      "outputs": [],
      "source": [
        "df22['5r1'] = df22['recovered_june'] + df22['recovered_july'] + df22['recovered_august']\n",
        "df22['5r2'] = df22['recovered_september'] + df22['recovered_october'] + df22['recovered_november']\n",
        "df22['5l1'] = df22['lent_cnt_june']  + df22['lent_cnt_july'] + df22['lent_cnt_august']\n",
        "df22['5l2'] = df22['lent_cnt_september']  + df22['lent_cnt_october']\n",
        "df22['p']= (df22['5l2']*df22['5r1'])/(df22['5l1']*df22['5r2'])"
      ]
    },
    {
      "cell_type": "code",
      "execution_count": null,
      "id": "ef933f72",
      "metadata": {
        "id": "ef933f72",
        "outputId": "679a9c23-39e8-470e-96a4-a1582bec4d34"
      },
      "outputs": [
        {
          "data": {
            "text/plain": [
              "<AxesSubplot:xlabel='index', ylabel='p'>"
            ]
          },
          "execution_count": 208,
          "metadata": {},
          "output_type": "execute_result"
        },
        {
          "data": {
            "image/png": "[encoded data removed]",
            "text/plain": [
              "<Figure size 432x288 with 1 Axes>"
            ]
          },
          "metadata": {
            "needs_background": "light"
          },
          "output_type": "display_data"
        }
      ],
      "source": [
        "df22.reset_index().plot(kind='scatter', x='index', y='p')"
      ]
    },
    {
      "cell_type": "code",
      "execution_count": null,
      "id": "1210f6be",
      "metadata": {
        "id": "1210f6be",
        "outputId": "8ba7f547-795a-4515-8771-744d3fe9c873"
      },
      "outputs": [
        {
          "data": {
            "text/plain": [
              "715"
            ]
          },
          "execution_count": 199,
          "metadata": {},
          "output_type": "execute_result"
        }
      ],
      "source": [
        "df22['p'].isna().sum()"
      ]
    },
    {
      "cell_type": "code",
      "execution_count": null,
      "id": "d1abf53b",
      "metadata": {
        "id": "d1abf53b"
      },
      "outputs": [],
      "source": []
    },
    {
      "cell_type": "markdown",
      "id": "4b178245",
      "metadata": {
        "id": "4b178245"
      },
      "source": [
        "Based on the scatter plot for Df22, the best thresholds would be (2, 0.6, 0.1)"
      ]
    },
    {
      "cell_type": "code",
      "execution_count": null,
      "id": "82c05438",
      "metadata": {
        "id": "82c05438",
        "outputId": "731ead25-67e9-4396-8d90-c03f162edb44"
      },
      "outputs": [
        {
          "data": {
            "text/plain": [
              "1       0.0\n",
              "2       0.3\n",
              "3       0.9\n",
              "4       0.3\n",
              "5       0.0\n",
              "       ... \n",
              "3016    0.0\n",
              "3017    0.0\n",
              "3018    0.0\n",
              "3019   -0.3\n",
              "3020    0.0\n",
              "Name: metric5, Length: 2258, dtype: float64"
            ]
          },
          "execution_count": 203,
          "metadata": {},
          "output_type": "execute_result"
        }
      ],
      "source": [
        "conditions = [\n",
        "    (df32['p'] <= 0.8),\n",
        "    (df32['p'] > 0.8) & (df32['p'] <= 6),\n",
        "    (df32['p'] > 6) & (df32['p'] <= 10),\n",
        "    (df32['p'] > 10) & ((df32['mortgage_count'] + df32['count_silver'] + df32['count_gold']) > 0),\n",
        "     (df32['p'] > 10) & ((df32['mortgage_count'] + df32['count_silver'] + df32['count_gold']) == 0)\n",
        "    ]\n",
        "\n",
        "# create a list of the values we want to assign for each condition\n",
        "values = [0.3, 0.6,0.9, 0.9,  -0.3]\n",
        "\n",
        "# create a new column and use np.select to assign values to it using our lists as arguments\n",
        "df32['metric5'] = np.select(conditions, values)\n",
        "\n",
        "# display updated DataFrame\n",
        "df32['metric5']"
      ]
    },
    {
      "cell_type": "code",
      "execution_count": null,
      "id": "d20fc4e1",
      "metadata": {
        "id": "d20fc4e1",
        "outputId": "b13100c7-91fe-4f5e-b4d2-10db0c898eb5"
      },
      "outputs": [
        {
          "data": {
            "text/plain": [
              "(array([ 101.,    0.,    0.,    0.,    0., 2017.,    0.,   52.,    0.,\n",
              "          88.]),\n",
              " array([-0.3 , -0.18, -0.06,  0.06,  0.18,  0.3 ,  0.42,  0.54,  0.66,\n",
              "         0.78,  0.9 ]),\n",
              " <BarContainer object of 10 artists>)"
            ]
          },
          "execution_count": 207,
          "metadata": {},
          "output_type": "execute_result"
        },
        {
          "data": {
            "image/png": "[encoded data removed]",
            "text/plain": [
              "<Figure size 432x288 with 1 Axes>"
            ]
          },
          "metadata": {
            "needs_background": "light"
          },
          "output_type": "display_data"
        }
      ],
      "source": [
        "plt.hist(df32['metric5'])"
      ]
    },
    {
      "cell_type": "code",
      "execution_count": null,
      "id": "d43bef8b",
      "metadata": {
        "id": "d43bef8b",
        "outputId": "308773ed-6ed6-474b-9ea1-f67271abdb83"
      },
      "outputs": [
        {
          "data": {
            "text/plain": [
              "10      0.3\n",
              "19      0.0\n",
              "20      0.0\n",
              "23      0.6\n",
              "29      0.0\n",
              "       ... \n",
              "2990    0.0\n",
              "2992    0.0\n",
              "2994    0.0\n",
              "3001    0.0\n",
              "3015    0.0\n",
              "Name: metric5, Length: 762, dtype: float64"
            ]
          },
          "execution_count": 204,
          "metadata": {},
          "output_type": "execute_result"
        }
      ],
      "source": [
        "conditions1 = [\n",
        "    (df22['p'] <= 0.1),\n",
        "    (df22['p'] > 0.1) & (df22['p'] <= 0.6),\n",
        "    (df22['p'] > 0.6) & (df22['p'] <= 2),\n",
        "    (df22['p'] > 2) & ((df22['mortgage_count'] + df22['count_silver'] + df22['count_gold']) > 0),\n",
        "     (df22['p'] > 2) & ((df22['mortgage_count'] + df22['count_silver'] + df22['count_gold']) == 0)\n",
        "    ]\n",
        "\n",
        "# create a list of the values we want to assign for each condition\n",
        "values1 = [0.3, 0.6,0.9,0.9, -0.3]\n",
        "\n",
        "# create a new column and use np.select to assign values to it using our lists as arguments\n",
        "df22['metric5'] = np.select(conditions1, values1)\n",
        "\n",
        "# display updated DataFrame\n",
        "df22['metric5']"
      ]
    },
    {
      "cell_type": "code",
      "execution_count": null,
      "id": "2322d7be",
      "metadata": {
        "id": "2322d7be"
      },
      "outputs": [],
      "source": [
        "df32.loc[df32.index[(df32['metric5'] ==0)], 'metric5'] = 0.3\n",
        "df22.loc[df22.index[(df22['metric5'] ==0)], 'metric5'] = 0.3"
      ]
    },
    {
      "cell_type": "markdown",
      "id": "ccab923d",
      "metadata": {
        "id": "ccab923d"
      },
      "source": [
        "## metric 5 ready to use"
      ]
    },
    {
      "cell_type": "code",
      "execution_count": null,
      "id": "af982096",
      "metadata": {
        "id": "af982096"
      },
      "outputs": [],
      "source": [
        "df32['metric2'] = df32['rll']**2 + df32['rlb']**2\n",
        "df22['metric2'] = df22['rbl']**2 + df22['rbb']**2"
      ]
    },
    {
      "cell_type": "code",
      "execution_count": null,
      "id": "d4c58c71",
      "metadata": {
        "id": "d4c58c71"
      },
      "outputs": [],
      "source": []
    },
    {
      "cell_type": "code",
      "execution_count": null,
      "id": "46ca437b",
      "metadata": {
        "id": "46ca437b"
      },
      "outputs": [],
      "source": [
        "# df32['metric2'] = df32['rll']**2 - df32['rlb']**2\n",
        "# df22['metric2'] = -df22['rbl']**2 + df22['rbb']**2"
      ]
    },
    {
      "cell_type": "code",
      "execution_count": null,
      "id": "f06ddef5",
      "metadata": {
        "id": "f06ddef5",
        "outputId": "51961803-ea2d-48e9-8c40-1ba31395a710"
      },
      "outputs": [
        {
          "data": {
            "text/plain": [
              "<AxesSubplot:xlabel='index', ylabel='metric2'>"
            ]
          },
          "execution_count": 155,
          "metadata": {},
          "output_type": "execute_result"
        },
        {
          "data": {
            "image/png": "[encoded data removed]",
            "text/plain": [
              "<Figure size 432x288 with 1 Axes>"
            ]
          },
          "metadata": {
            "needs_background": "light"
          },
          "output_type": "display_data"
        }
      ],
      "source": [
        "df22.reset_index().plot(kind='scatter', x='index', y='metric2')"
      ]
    },
    {
      "cell_type": "code",
      "execution_count": null,
      "id": "61cb9000",
      "metadata": {
        "id": "61cb9000",
        "outputId": "d8e33eca-d13e-4427-da4c-3f6480dea7df"
      },
      "outputs": [
        {
          "data": {
            "text/plain": [
              "<AxesSubplot:xlabel='index', ylabel='metric2'>"
            ]
          },
          "execution_count": 156,
          "metadata": {},
          "output_type": "execute_result"
        },
        {
          "data": {
            "image/png": "[encoded data removed]",
            "text/plain": [
              "<Figure size 432x288 with 1 Axes>"
            ]
          },
          "metadata": {
            "needs_background": "light"
          },
          "output_type": "display_data"
        }
      ],
      "source": [
        "df32.reset_index().plot(kind='scatter', x='index', y='metric2')"
      ]
    },
    {
      "cell_type": "markdown",
      "id": "dd821a1d",
      "metadata": {
        "id": "dd821a1d"
      },
      "source": []
    },
    {
      "cell_type": "markdown",
      "id": "710bcc01",
      "metadata": {
        "id": "710bcc01"
      },
      "source": [
        "## metric 2 ready to use "
      ]
    },
    {
      "cell_type": "code",
      "execution_count": null,
      "id": "474cb5c7",
      "metadata": {
        "id": "474cb5c7",
        "outputId": "ad231fb3-70dc-44a8-9518-e7f059b4961c"
      },
      "outputs": [
        {
          "data": {
            "text/plain": [
              "lead_id            0\n",
              "created_At         0\n",
              "language           0\n",
              "sub_period         0\n",
              "sub_duration       0\n",
              "                ... \n",
              "5l1                0\n",
              "5l2                0\n",
              "p               1693\n",
              "metric5            0\n",
              "metric2            0\n",
              "Length: 123, dtype: int64"
            ]
          },
          "execution_count": 696,
          "metadata": {},
          "output_type": "execute_result"
        }
      ],
      "source": [
        "df32.isna().sum()"
      ]
    },
    {
      "cell_type": "code",
      "execution_count": null,
      "id": "b7d73ec9",
      "metadata": {
        "id": "b7d73ec9",
        "outputId": "26f55d56-7520-47c4-9296-50530e3d88a5"
      },
      "outputs": [
        {
          "data": {
            "text/plain": [
              "0"
            ]
          },
          "execution_count": 216,
          "metadata": {},
          "output_type": "execute_result"
        }
      ],
      "source": [
        "df32['scty_total'].isna().sum()"
      ]
    },
    {
      "cell_type": "code",
      "execution_count": null,
      "id": "7c6801b3",
      "metadata": {
        "id": "7c6801b3"
      },
      "outputs": [],
      "source": [
        "list2 = ['metric5','metric4', 'metric1','metric6','metric2', 'metric71']\n",
        "for i in list2: \n",
        "  df32[i]= df32[i].fillna(0)\n",
        "  df22[i] = df22[i].fillna(0)"
      ]
    },
    {
      "cell_type": "markdown",
      "id": "4b43c96f",
      "metadata": {
        "id": "4b43c96f"
      },
      "source": [
        "metric5 : fill na with 0 \n",
        "metric2 : fill na with 0\n",
        "metric6 : fill na with 0 \n",
        "metric4 : fill na with 0\n",
        "metric1 : fill na with 0"
      ]
    },
    {
      "cell_type": "markdown",
      "id": "ed4c5dc5",
      "metadata": {
        "id": "ed4c5dc5"
      },
      "source": [
        "# FINAL SCORES"
      ]
    },
    {
      "cell_type": "code",
      "execution_count": null,
      "id": "50b303ed",
      "metadata": {
        "id": "50b303ed"
      },
      "outputs": [],
      "source": [
        "df32['score'] =0\n",
        "df22['score'] = 0"
      ]
    },
    {
      "cell_type": "code",
      "execution_count": null,
      "id": "41ea9d09",
      "metadata": {
        "id": "41ea9d09"
      },
      "outputs": [],
      "source": [
        "df32['score'] = 0.25*df32['metric1'] + 0.1*df32['metric2'] + 0.25*df32['scty_total'] + 0.15*df32['metric4'] + 0.15*df32['metric5'] + 0.05*df32['metric6'] + 0.05*df32['metric71']\n",
        "df22['score'] = 0.25*df22['metric1'] + 0.1*df22['metric2'] + 0.25*df22['scty_total'] + 0.15*df22['metric4'] + 0.15*df22['metric5'] + 0.05*(df22['metric6'] + df22['metric71'])"
      ]
    },
    {
      "cell_type": "code",
      "execution_count": null,
      "id": "35995876",
      "metadata": {
        "id": "35995876"
      },
      "outputs": [],
      "source": []
    },
    {
      "cell_type": "code",
      "execution_count": null,
      "id": "b26c719c",
      "metadata": {
        "id": "b26c719c"
      },
      "outputs": [],
      "source": [
        "df32std = df32.copy(deep = True)\n",
        "df22std = df22.copy(deep = True)"
      ]
    },
    {
      "cell_type": "code",
      "execution_count": null,
      "id": "b17ec27d",
      "metadata": {
        "id": "b17ec27d"
      },
      "outputs": [],
      "source": [
        "metriclist = ['metric1','metric2','scty_total','metric4','metric6','metric5',  'metric71']"
      ]
    },
    {
      "cell_type": "code",
      "execution_count": null,
      "id": "0f4b1454",
      "metadata": {
        "id": "0f4b1454"
      },
      "outputs": [],
      "source": [
        "for i in metriclist: \n",
        "    df32std[i] = (df32std[i] - df32std[i].mean())/df32std[i].std()\n",
        "    df22std[i] = (df22std[i] - df22std[i].mean())/df22std[i].std()"
      ]
    },
    {
      "cell_type": "code",
      "execution_count": null,
      "id": "5eb54efb",
      "metadata": {
        "id": "5eb54efb"
      },
      "outputs": [],
      "source": [
        "df32std['score'] = 0.25*df32std['metric1'] + 0.1*df32std['metric2'] + 0.25*df32std['scty_total'] + 0.15*df32std['metric4'] + 0.15*df32std['metric5'] + 0.05*df32std['metric6'] + 0.05*df32std['metric71']\n",
        "df22std['score'] = 0.25*df22std['metric1'] + 0.1*df22std['metric2'] + 0.25*df22std['scty_total'] + 0.15*df22std['metric4'] + 0.15*df22std['metric5'] + 0.05*(df22std['metric6'] + df22std['metric71'])"
      ]
    },
    {
      "cell_type": "code",
      "execution_count": null,
      "id": "e65c9586",
      "metadata": {
        "id": "e65c9586",
        "outputId": "6b31b6a9-8a91-4d7f-f99a-ec6ded9992e8"
      },
      "outputs": [
        {
          "data": {
            "text/html": [
              "<div>\n",
              "<style scoped>\n",
              "    .dataframe tbody tr th:only-of-type {\n",
              "        vertical-align: middle;\n",
              "    }\n",
              "\n",
              "    .dataframe tbody tr th {\n",
              "        vertical-align: top;\n",
              "    }\n",
              "\n",
              "    .dataframe thead th {\n",
              "        text-align: right;\n",
              "    }\n",
              "</style>\n",
              "<table border=\"1\" class=\"dataframe\">\n",
              "  <thead>\n",
              "    <tr style=\"text-align: right;\">\n",
              "      <th></th>\n",
              "      <th>metric1</th>\n",
              "      <th>metric2</th>\n",
              "      <th>scty_total</th>\n",
              "      <th>metric4</th>\n",
              "      <th>metric6</th>\n",
              "      <th>metric5</th>\n",
              "      <th>metric71</th>\n",
              "    </tr>\n",
              "  </thead>\n",
              "  <tbody>\n",
              "    <tr>\n",
              "      <th>1</th>\n",
              "      <td>0.059411</td>\n",
              "      <td>0.800636</td>\n",
              "      <td>0.071667</td>\n",
              "      <td>0.000000</td>\n",
              "      <td>0.035616</td>\n",
              "      <td>0.3</td>\n",
              "      <td>0.000000</td>\n",
              "    </tr>\n",
              "    <tr>\n",
              "      <th>2</th>\n",
              "      <td>0.794448</td>\n",
              "      <td>0.966226</td>\n",
              "      <td>0.248000</td>\n",
              "      <td>1.027491</td>\n",
              "      <td>0.035616</td>\n",
              "      <td>0.3</td>\n",
              "      <td>0.378066</td>\n",
              "    </tr>\n",
              "    <tr>\n",
              "      <th>3</th>\n",
              "      <td>0.379400</td>\n",
              "      <td>0.599136</td>\n",
              "      <td>0.196429</td>\n",
              "      <td>0.000000</td>\n",
              "      <td>0.457534</td>\n",
              "      <td>0.9</td>\n",
              "      <td>0.031746</td>\n",
              "    </tr>\n",
              "    <tr>\n",
              "      <th>4</th>\n",
              "      <td>0.440872</td>\n",
              "      <td>0.989206</td>\n",
              "      <td>0.635455</td>\n",
              "      <td>0.870369</td>\n",
              "      <td>0.084932</td>\n",
              "      <td>0.3</td>\n",
              "      <td>0.229178</td>\n",
              "    </tr>\n",
              "    <tr>\n",
              "      <th>5</th>\n",
              "      <td>0.324506</td>\n",
              "      <td>0.550171</td>\n",
              "      <td>0.307980</td>\n",
              "      <td>0.000000</td>\n",
              "      <td>0.084932</td>\n",
              "      <td>0.3</td>\n",
              "      <td>0.000000</td>\n",
              "    </tr>\n",
              "    <tr>\n",
              "      <th>...</th>\n",
              "      <td>...</td>\n",
              "      <td>...</td>\n",
              "      <td>...</td>\n",
              "      <td>...</td>\n",
              "      <td>...</td>\n",
              "      <td>...</td>\n",
              "      <td>...</td>\n",
              "    </tr>\n",
              "    <tr>\n",
              "      <th>3016</th>\n",
              "      <td>0.500250</td>\n",
              "      <td>1.000000</td>\n",
              "      <td>0.224000</td>\n",
              "      <td>0.000000</td>\n",
              "      <td>0.000000</td>\n",
              "      <td>0.3</td>\n",
              "      <td>0.000000</td>\n",
              "    </tr>\n",
              "    <tr>\n",
              "      <th>3017</th>\n",
              "      <td>0.039498</td>\n",
              "      <td>1.000000</td>\n",
              "      <td>0.124000</td>\n",
              "      <td>0.000000</td>\n",
              "      <td>0.000000</td>\n",
              "      <td>0.3</td>\n",
              "      <td>0.000000</td>\n",
              "    </tr>\n",
              "    <tr>\n",
              "      <th>3018</th>\n",
              "      <td>0.000000</td>\n",
              "      <td>1.000000</td>\n",
              "      <td>0.003000</td>\n",
              "      <td>0.000000</td>\n",
              "      <td>0.000000</td>\n",
              "      <td>0.3</td>\n",
              "      <td>0.000000</td>\n",
              "    </tr>\n",
              "    <tr>\n",
              "      <th>3019</th>\n",
              "      <td>0.701813</td>\n",
              "      <td>0.625000</td>\n",
              "      <td>0.015000</td>\n",
              "      <td>1.500000</td>\n",
              "      <td>0.000000</td>\n",
              "      <td>-0.3</td>\n",
              "      <td>0.169455</td>\n",
              "    </tr>\n",
              "    <tr>\n",
              "      <th>3020</th>\n",
              "      <td>0.166989</td>\n",
              "      <td>1.000000</td>\n",
              "      <td>0.018000</td>\n",
              "      <td>0.000000</td>\n",
              "      <td>0.000000</td>\n",
              "      <td>0.3</td>\n",
              "      <td>0.000000</td>\n",
              "    </tr>\n",
              "  </tbody>\n",
              "</table>\n",
              "<p>2258 rows × 7 columns</p>\n",
              "</div>"
            ],
            "text/plain": [
              "       metric1   metric2  scty_total   metric4   metric6  metric5  metric71\n",
              "1     0.059411  0.800636    0.071667  0.000000  0.035616      0.3  0.000000\n",
              "2     0.794448  0.966226    0.248000  1.027491  0.035616      0.3  0.378066\n",
              "3     0.379400  0.599136    0.196429  0.000000  0.457534      0.9  0.031746\n",
              "4     0.440872  0.989206    0.635455  0.870369  0.084932      0.3  0.229178\n",
              "5     0.324506  0.550171    0.307980  0.000000  0.084932      0.3  0.000000\n",
              "...        ...       ...         ...       ...       ...      ...       ...\n",
              "3016  0.500250  1.000000    0.224000  0.000000  0.000000      0.3  0.000000\n",
              "3017  0.039498  1.000000    0.124000  0.000000  0.000000      0.3  0.000000\n",
              "3018  0.000000  1.000000    0.003000  0.000000  0.000000      0.3  0.000000\n",
              "3019  0.701813  0.625000    0.015000  1.500000  0.000000     -0.3  0.169455\n",
              "3020  0.166989  1.000000    0.018000  0.000000  0.000000      0.3  0.000000\n",
              "\n",
              "[2258 rows x 7 columns]"
            ]
          },
          "execution_count": 243,
          "metadata": {},
          "output_type": "execute_result"
        }
      ],
      "source": [
        "df32[metriclist]"
      ]
    },
    {
      "cell_type": "code",
      "execution_count": null,
      "id": "eb186708",
      "metadata": {
        "id": "eb186708",
        "outputId": "06d4c538-49e5-41a8-f042-5c951239a648"
      },
      "outputs": [
        {
          "data": {
            "text/html": [
              "<div>\n",
              "<style scoped>\n",
              "    .dataframe tbody tr th:only-of-type {\n",
              "        vertical-align: middle;\n",
              "    }\n",
              "\n",
              "    .dataframe tbody tr th {\n",
              "        vertical-align: top;\n",
              "    }\n",
              "\n",
              "    .dataframe thead th {\n",
              "        text-align: right;\n",
              "    }\n",
              "</style>\n",
              "<table border=\"1\" class=\"dataframe\">\n",
              "  <thead>\n",
              "    <tr style=\"text-align: right;\">\n",
              "      <th></th>\n",
              "      <th>metric1</th>\n",
              "      <th>metric2</th>\n",
              "      <th>scty_total</th>\n",
              "      <th>metric4</th>\n",
              "      <th>metric6</th>\n",
              "      <th>metric5</th>\n",
              "      <th>metric71</th>\n",
              "    </tr>\n",
              "  </thead>\n",
              "  <tbody>\n",
              "    <tr>\n",
              "      <th>1</th>\n",
              "      <td>-0.887290</td>\n",
              "      <td>-0.944556</td>\n",
              "      <td>-0.241704</td>\n",
              "      <td>-0.578863</td>\n",
              "      <td>0.033178</td>\n",
              "      <td>-0.019248</td>\n",
              "      <td>-0.804985</td>\n",
              "    </tr>\n",
              "    <tr>\n",
              "      <th>2</th>\n",
              "      <td>2.135483</td>\n",
              "      <td>0.228755</td>\n",
              "      <td>0.503202</td>\n",
              "      <td>0.525635</td>\n",
              "      <td>0.033178</td>\n",
              "      <td>-0.019248</td>\n",
              "      <td>1.549697</td>\n",
              "    </tr>\n",
              "    <tr>\n",
              "      <th>3</th>\n",
              "      <td>0.428637</td>\n",
              "      <td>-2.372312</td>\n",
              "      <td>0.285342</td>\n",
              "      <td>-0.578863</td>\n",
              "      <td>6.143935</td>\n",
              "      <td>3.324015</td>\n",
              "      <td>-0.607264</td>\n",
              "    </tr>\n",
              "    <tr>\n",
              "      <th>4</th>\n",
              "      <td>0.681434</td>\n",
              "      <td>0.391582</td>\n",
              "      <td>2.139972</td>\n",
              "      <td>0.356737</td>\n",
              "      <td>0.747422</td>\n",
              "      <td>-0.019248</td>\n",
              "      <td>0.622389</td>\n",
              "    </tr>\n",
              "    <tr>\n",
              "      <th>5</th>\n",
              "      <td>0.202890</td>\n",
              "      <td>-2.719258</td>\n",
              "      <td>0.756584</td>\n",
              "      <td>-0.578863</td>\n",
              "      <td>0.747422</td>\n",
              "      <td>-0.019248</td>\n",
              "      <td>-0.804985</td>\n",
              "    </tr>\n",
              "    <tr>\n",
              "      <th>...</th>\n",
              "      <td>...</td>\n",
              "      <td>...</td>\n",
              "      <td>...</td>\n",
              "      <td>...</td>\n",
              "      <td>...</td>\n",
              "      <td>...</td>\n",
              "      <td>...</td>\n",
              "    </tr>\n",
              "    <tr>\n",
              "      <th>3016</th>\n",
              "      <td>0.925620</td>\n",
              "      <td>0.468063</td>\n",
              "      <td>0.401816</td>\n",
              "      <td>-0.578863</td>\n",
              "      <td>-0.482665</td>\n",
              "      <td>-0.019248</td>\n",
              "      <td>-0.804985</td>\n",
              "    </tr>\n",
              "    <tr>\n",
              "      <th>3017</th>\n",
              "      <td>-0.969180</td>\n",
              "      <td>0.468063</td>\n",
              "      <td>-0.020626</td>\n",
              "      <td>-0.578863</td>\n",
              "      <td>-0.482665</td>\n",
              "      <td>-0.019248</td>\n",
              "      <td>-0.804985</td>\n",
              "    </tr>\n",
              "    <tr>\n",
              "      <th>3018</th>\n",
              "      <td>-1.131611</td>\n",
              "      <td>0.468063</td>\n",
              "      <td>-0.531781</td>\n",
              "      <td>-0.578863</td>\n",
              "      <td>-0.482665</td>\n",
              "      <td>-0.019248</td>\n",
              "      <td>-0.804985</td>\n",
              "    </tr>\n",
              "    <tr>\n",
              "      <th>3019</th>\n",
              "      <td>1.754530</td>\n",
              "      <td>-2.189047</td>\n",
              "      <td>-0.481088</td>\n",
              "      <td>1.033557</td>\n",
              "      <td>-0.482665</td>\n",
              "      <td>-3.362511</td>\n",
              "      <td>0.250420</td>\n",
              "    </tr>\n",
              "    <tr>\n",
              "      <th>3020</th>\n",
              "      <td>-0.444884</td>\n",
              "      <td>0.468063</td>\n",
              "      <td>-0.468415</td>\n",
              "      <td>-0.578863</td>\n",
              "      <td>-0.482665</td>\n",
              "      <td>-0.019248</td>\n",
              "      <td>-0.804985</td>\n",
              "    </tr>\n",
              "  </tbody>\n",
              "</table>\n",
              "<p>2258 rows × 7 columns</p>\n",
              "</div>"
            ],
            "text/plain": [
              "       metric1   metric2  scty_total   metric4   metric6   metric5  metric71\n",
              "1    -0.887290 -0.944556   -0.241704 -0.578863  0.033178 -0.019248 -0.804985\n",
              "2     2.135483  0.228755    0.503202  0.525635  0.033178 -0.019248  1.549697\n",
              "3     0.428637 -2.372312    0.285342 -0.578863  6.143935  3.324015 -0.607264\n",
              "4     0.681434  0.391582    2.139972  0.356737  0.747422 -0.019248  0.622389\n",
              "5     0.202890 -2.719258    0.756584 -0.578863  0.747422 -0.019248 -0.804985\n",
              "...        ...       ...         ...       ...       ...       ...       ...\n",
              "3016  0.925620  0.468063    0.401816 -0.578863 -0.482665 -0.019248 -0.804985\n",
              "3017 -0.969180  0.468063   -0.020626 -0.578863 -0.482665 -0.019248 -0.804985\n",
              "3018 -1.131611  0.468063   -0.531781 -0.578863 -0.482665 -0.019248 -0.804985\n",
              "3019  1.754530 -2.189047   -0.481088  1.033557 -0.482665 -3.362511  0.250420\n",
              "3020 -0.444884  0.468063   -0.468415 -0.578863 -0.482665 -0.019248 -0.804985\n",
              "\n",
              "[2258 rows x 7 columns]"
            ]
          },
          "execution_count": 242,
          "metadata": {},
          "output_type": "execute_result"
        }
      ],
      "source": [
        "df32std[metriclist]"
      ]
    },
    {
      "cell_type": "markdown",
      "id": "6b7b5dda",
      "metadata": {
        "id": "6b7b5dda"
      },
      "source": [
        "Compare the scatterplots (removing outliers) of all the 4 datasets"
      ]
    },
    {
      "cell_type": "markdown",
      "id": "3ac1e027",
      "metadata": {
        "id": "3ac1e027"
      },
      "source": [
        "df32, df32std then df22 and df22std"
      ]
    },
    {
      "cell_type": "code",
      "execution_count": null,
      "id": "ad8c6e3f",
      "metadata": {
        "id": "ad8c6e3f"
      },
      "outputs": [],
      "source": [
        "# # df32.reset_index().plot(kind='scatter', x='index', y='score')\n",
        "# #remove the entry greater than 12\n",
        "# df32copy = df32.copy(deep = True)\n",
        "# df32copy = df32copy[(df32copy['score'] < 2)]\n",
        "# df32copy.reset_index().plot(kind='scatter', x='index', y='score')\n",
        "# # df32std.reset_index().plot(kind='scatter', x='index', y='score')\n",
        "# #remove outlier entry and then plot again \n",
        "# df32stdcopy = df32std.copy(deep = True)\n",
        "# df32stdcopy = df32stdcopy[(df32stdcopy['score'] < 2)]\n",
        "# df32stdcopy.reset_index().plot(kind='scatter', x='index', y='score')"
      ]
    },
    {
      "cell_type": "markdown",
      "id": "65810c05",
      "metadata": {
        "id": "65810c05"
      },
      "source": []
    },
    {
      "cell_type": "markdown",
      "id": "f4401428",
      "metadata": {
        "id": "f4401428"
      },
      "source": []
    },
    {
      "cell_type": "code",
      "execution_count": null,
      "id": "85c50884",
      "metadata": {
        "id": "85c50884",
        "outputId": "9f4ded75-788a-4e4c-e6bb-a5d8289e704a"
      },
      "outputs": [
        {
          "data": {
            "text/plain": [
              "0"
            ]
          },
          "execution_count": 232,
          "metadata": {},
          "output_type": "execute_result"
        },
        {
          "data": {
            "image/png": "[encoded data removed]",
            "text/plain": [
              "<Figure size 432x288 with 1 Axes>"
            ]
          },
          "metadata": {
            "needs_background": "light"
          },
          "output_type": "display_data"
        }
      ],
      "source": [
        "df22.reset_index().plot(kind='scatter', x='index', y='score')\n",
        "df22['score'].isna().sum()"
      ]
    },
    {
      "cell_type": "code",
      "execution_count": null,
      "id": "13ce79fb",
      "metadata": {
        "id": "13ce79fb"
      },
      "outputs": [],
      "source": []
    },
    {
      "cell_type": "code",
      "execution_count": null,
      "id": "d5a0b1cc",
      "metadata": {
        "id": "d5a0b1cc",
        "outputId": "8c44589d-9f1f-4c0e-9da0-a71a299c8bc9"
      },
      "outputs": [
        {
          "data": {
            "text/plain": [
              "<AxesSubplot:xlabel='index', ylabel='score'>"
            ]
          },
          "execution_count": 233,
          "metadata": {},
          "output_type": "execute_result"
        },
        {
          "data": {
            "image/png": "[encoded data removed]",
            "text/plain": [
              "<Figure size 432x288 with 1 Axes>"
            ]
          },
          "metadata": {
            "needs_background": "light"
          },
          "output_type": "display_data"
        }
      ],
      "source": [
        "df32.reset_index().plot(kind='scatter', x='index', y='score')"
      ]
    },
    {
      "cell_type": "code",
      "execution_count": null,
      "id": "0d93e15a",
      "metadata": {
        "id": "0d93e15a",
        "outputId": "13e06192-571c-466e-d8aa-f76037408464"
      },
      "outputs": [
        {
          "data": {
            "text/plain": [
              "<AxesSubplot:xlabel='index', ylabel='score'>"
            ]
          },
          "execution_count": 241,
          "metadata": {},
          "output_type": "execute_result"
        },
        {
          "data": {
            "image/png": "[encoded data removed]",
            "text/plain": [
              "<Figure size 432x288 with 1 Axes>"
            ]
          },
          "metadata": {
            "needs_background": "light"
          },
          "output_type": "display_data"
        }
      ],
      "source": [
        "df32std.reset_index().plot(kind='scatter', x='index', y='score')"
      ]
    },
    {
      "cell_type": "code",
      "execution_count": null,
      "id": "3d3bd98b",
      "metadata": {
        "id": "3d3bd98b",
        "outputId": "c299311a-5962-483a-ac0c-1dbc9410d4dc"
      },
      "outputs": [
        {
          "data": {
            "text/plain": [
              "<AxesSubplot:xlabel='index', ylabel='score'>"
            ]
          },
          "execution_count": 236,
          "metadata": {},
          "output_type": "execute_result"
        },
        {
          "data": {
            "image/png": "[encoded data removed]",
            "text/plain": [
              "<Figure size 432x288 with 1 Axes>"
            ]
          },
          "metadata": {
            "needs_background": "light"
          },
          "output_type": "display_data"
        }
      ],
      "source": [
        "df22std.reset_index().plot(kind='scatter', x='index', y='score')"
      ]
    },
    {
      "cell_type": "code",
      "execution_count": null,
      "id": "67dbdb7f",
      "metadata": {
        "id": "67dbdb7f"
      },
      "outputs": [],
      "source": [
        "df32.to_csv('C:/Users/gaura/Downloads/netlentscores.csv')\n",
        "df22.to_csv('C:/Users/gaura/Downloads/netborrowedscores.csv')\n",
        "df32std.to_csv('C:/Users/gaura/Downloads/netlentscoresstd.csv')\n",
        "df22std.to_csv('C:/Users/gaura/Downloads/netborrowedscoresstd.csv')"
      ]
    },
    {
      "cell_type": "code",
      "execution_count": null,
      "id": "6cc66aa4",
      "metadata": {
        "id": "6cc66aa4",
        "outputId": "df5208ad-c4ab-4398-c3ba-200a977386aa"
      },
      "outputs": [
        {
          "data": {
            "text/plain": [
              "{'whiskers': [<matplotlib.lines.Line2D at 0x1f991377ee0>,\n",
              "  <matplotlib.lines.Line2D at 0x1f991358280>],\n",
              " 'caps': [<matplotlib.lines.Line2D at 0x1f9913585e0>,\n",
              "  <matplotlib.lines.Line2D at 0x1f991358940>],\n",
              " 'boxes': [<matplotlib.lines.Line2D at 0x1f991377b80>],\n",
              " 'medians': [<matplotlib.lines.Line2D at 0x1f991358ca0>],\n",
              " 'fliers': [<matplotlib.lines.Line2D at 0x1f991364040>],\n",
              " 'means': []}"
            ]
          },
          "execution_count": 238,
          "metadata": {},
          "output_type": "execute_result"
        },
        {
          "data": {
            "image/png": "[encoded data removed]",
            "text/plain": [
              "<Figure size 432x288 with 1 Axes>"
            ]
          },
          "metadata": {
            "needs_background": "light"
          },
          "output_type": "display_data"
        }
      ],
      "source": [
        "plt.boxplot(df22['score'])"
      ]
    },
    {
      "cell_type": "code",
      "execution_count": null,
      "id": "209a8c64",
      "metadata": {
        "id": "209a8c64",
        "outputId": "bbcce889-5da3-48e6-9e21-51d4b1da1575"
      },
      "outputs": [
        {
          "data": {
            "text/plain": [
              "0"
            ]
          },
          "execution_count": 239,
          "metadata": {},
          "output_type": "execute_result"
        }
      ],
      "source": [
        "df32['score'].isna().sum()"
      ]
    },
    {
      "cell_type": "code",
      "execution_count": null,
      "id": "48abb04e",
      "metadata": {
        "id": "48abb04e",
        "outputId": "ee87576d-94e4-476f-facc-0b7908056b09"
      },
      "outputs": [
        {
          "data": {
            "text/plain": [
              "{'whiskers': [<matplotlib.lines.Line2D at 0x1f99130d880>,\n",
              "  <matplotlib.lines.Line2D at 0x1f99130dbe0>],\n",
              " 'caps': [<matplotlib.lines.Line2D at 0x1f99130df40>,\n",
              "  <matplotlib.lines.Line2D at 0x1f9912342e0>],\n",
              " 'boxes': [<matplotlib.lines.Line2D at 0x1f99130d520>],\n",
              " 'medians': [<matplotlib.lines.Line2D at 0x1f991234640>],\n",
              " 'fliers': [<matplotlib.lines.Line2D at 0x1f9912349a0>],\n",
              " 'means': []}"
            ]
          },
          "execution_count": 240,
          "metadata": {},
          "output_type": "execute_result"
        },
        {
          "data": {
            "image/png": "[encoded data removed]",
            "text/plain": [
              "<Figure size 432x288 with 1 Axes>"
            ]
          },
          "metadata": {
            "needs_background": "light"
          },
          "output_type": "display_data"
        }
      ],
      "source": [
        "plt.boxplot(df32['score'])"
      ]
    },
    {
      "cell_type": "code",
      "execution_count": null,
      "id": "66e48b78",
      "metadata": {
        "id": "66e48b78"
      },
      "outputs": [],
      "source": []
    },
    {
      "cell_type": "code",
      "execution_count": null,
      "id": "9870f679",
      "metadata": {
        "scrolled": true,
        "id": "9870f679"
      },
      "outputs": [],
      "source": []
    },
    {
      "cell_type": "markdown",
      "id": "a169d7ac",
      "metadata": {
        "id": "a169d7ac"
      },
      "source": []
    },
    {
      "cell_type": "code",
      "execution_count": null,
      "id": "99585435",
      "metadata": {
        "id": "99585435"
      },
      "outputs": [],
      "source": [
        "\n"
      ]
    },
    {
      "cell_type": "code",
      "execution_count": null,
      "id": "e645a08b",
      "metadata": {
        "id": "e645a08b"
      },
      "outputs": [],
      "source": []
    },
    {
      "cell_type": "markdown",
      "id": "4a8abe6e",
      "metadata": {
        "id": "4a8abe6e"
      },
      "source": []
    },
    {
      "cell_type": "code",
      "execution_count": null,
      "id": "4f6aa9aa",
      "metadata": {
        "id": "4f6aa9aa"
      },
      "outputs": [],
      "source": []
    },
    {
      "cell_type": "code",
      "execution_count": null,
      "id": "d28828dd",
      "metadata": {
        "id": "d28828dd"
      },
      "outputs": [],
      "source": [
        "new = pd.read_csv(\"C:/Users/gaura/Downloads/Credit_Score_ByajBook_16Dec Data.csv\")"
      ]
    },
    {
      "cell_type": "code",
      "execution_count": null,
      "id": "a0919b1d",
      "metadata": {
        "id": "a0919b1d"
      },
      "outputs": [],
      "source": [
        "collist1 = list(new)"
      ]
    },
    {
      "cell_type": "code",
      "execution_count": null,
      "id": "cd2e8a6b",
      "metadata": {
        "id": "cd2e8a6b"
      },
      "outputs": [],
      "source": [
        "removelist = []\n",
        "for i in collist1:\n",
        "    if i not in collist:\n",
        "        removelist.append(i)"
      ]
    },
    {
      "cell_type": "code",
      "execution_count": null,
      "id": "92ba1126",
      "metadata": {
        "id": "92ba1126",
        "outputId": "ba272ad6-644e-4ae3-db04-e69379074654"
      },
      "outputs": [
        {
          "data": {
            "text/plain": [
              "['updated_at',\n",
              " 'referred_by',\n",
              " 'language',\n",
              " 'profile_pic',\n",
              " 'signature',\n",
              " 'reminders',\n",
              " 'remarks',\n",
              " 'avg_reminder_days',\n",
              " 'avg_reminder_interval',\n",
              " 'avg_lent_interest_rate',\n",
              " 'avg_borrowed_interest_rate',\n",
              " 'simple_interest',\n",
              " 'compound_interest',\n",
              " 'fixed_amount',\n",
              " 'mortgage_remarks',\n",
              " 'mortgage_image_count',\n",
              " 'read_only_txns',\n",
              " 'contact_count',\n",
              " 'referral_count',\n",
              " 'user_txns']"
            ]
          },
          "execution_count": 229,
          "metadata": {},
          "output_type": "execute_result"
        }
      ],
      "source": [
        "removelist"
      ]
    },
    {
      "cell_type": "code",
      "execution_count": null,
      "id": "f876f61e",
      "metadata": {
        "id": "f876f61e"
      },
      "outputs": [],
      "source": []
    }
  ],
  "metadata": {
    "kernelspec": {
      "display_name": "Python 3",
      "language": "python",
      "name": "python3"
    },
    "language_info": {
      "codemirror_mode": {
        "name": "ipython",
        "version": 3
      },
      "file_extension": ".py",
      "mimetype": "text/x-python",
      "name": "python",
      "nbconvert_exporter": "python",
      "pygments_lexer": "ipython3",
      "version": "3.8.8"
    },
    "colab": {
      "provenance": [],
      "include_colab_link": true
    }
  },
  "nbformat": 4,
  "nbformat_minor": 5
}